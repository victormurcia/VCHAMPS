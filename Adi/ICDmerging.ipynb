{
  "cells": [
    {
      "cell_type": "markdown",
      "source": [
        "# Rough Experimentation with merging ICD Codes to Patient Diagnoses\n",
        "This notebook contains code experimenting with merging ICD codes to patient diagnoses. In particular, the 'inpatient_admissions_qual.csv' file is used to identify the first and second listed discharge diagnoses. The dataframe will be merged again on the ICD code to incorporate the CC/MCC designation for each Dx.\n",
        "\n",
        "Adjust filepaths to your need.\n",
        "\n",
        "Additional formatting of the ICD codes and patient dx is needed to fully match each patient to an ICD code.\n",
        "\n",
        "*Aditya Vijay 7/5/2023*"
      ],
      "metadata": {
        "id": "dRqlucgS7NRy"
      }
    },
    {
      "cell_type": "code",
      "execution_count": 1,
      "metadata": {
        "id": "YXt3bH3gLcX4"
      },
      "outputs": [],
      "source": [
        "# Imports\n",
        "import pandas as pd\n",
        "import numpy as np\n",
        "import os\n",
        "from google.colab import drive, files"
      ]
    },
    {
      "cell_type": "code",
      "execution_count": 2,
      "metadata": {
        "colab": {
          "base_uri": "https://localhost:8080/"
        },
        "id": "MV_0k71FLwuw",
        "outputId": "9bda6f78-d7eb-4a54-901c-7f3bbfe5e7de"
      },
      "outputs": [
        {
          "output_type": "stream",
          "name": "stdout",
          "text": [
            "Drive already mounted at /content/drive; to attempt to forcibly remount, call drive.mount(\"/content/drive\", force_remount=True).\n"
          ]
        }
      ],
      "source": [
        "# Mount Drive - Adjust folder path\n",
        "drive.mount('/content/drive')\n",
        "folder_path = \"/content/drive/MyDrive/Colab Notebooks/v-CHAMPS/SyntheticQualityCheck\""
      ]
    },
    {
      "cell_type": "code",
      "execution_count": 3,
      "metadata": {
        "id": "ZHq1HN-qND23"
      },
      "outputs": [],
      "source": [
        "# Loading CSVs\n",
        "df_list = []\n",
        "filenames = [file for file in os.listdir(folder_path) if file.endswith('.csv')]\n",
        "for filename in filenames:\n",
        "  df_list.append(pd.read_csv(folder_path + \"/\" + filename, encoding = \"utf-8\"))\n"
      ]
    },
    {
      "cell_type": "code",
      "execution_count": 4,
      "metadata": {
        "colab": {
          "base_uri": "https://localhost:8080/"
        },
        "id": "G8l5QqCwPi8I",
        "outputId": "2d29976b-57ac-4c9d-c718-998ce8603dda"
      },
      "outputs": [
        {
          "output_type": "execute_result",
          "data": {
            "text/plain": [
              "[(0, 'demographics_static_qual.csv'),\n",
              " (1, 'inpatient_specialty_qual.csv'),\n",
              " (2, 'immunization_qual.csv'),\n",
              " (3, 'conditions_qual.csv'),\n",
              " (4, 'measurements_blood_pressure_qual.csv'),\n",
              " (5, 'demographics_event_qual.csv'),\n",
              " (6, 'procedures_qual.csv'),\n",
              " (7, 'medications_ordered_qual.csv'),\n",
              " (8, 'lab_results_qual.csv'),\n",
              " (9, 'outpatient_visits_qual.csv'),\n",
              " (10, 'measurements_qual.csv'),\n",
              " (11, 'medications_administered_qual.csv'),\n",
              " (12, 'ed_visits_qual.csv'),\n",
              " (13, 'inpatient_location_qual.csv'),\n",
              " (14, 'inpatient_admissions_qual.csv')]"
            ]
          },
          "metadata": {},
          "execution_count": 4
        }
      ],
      "source": [
        "# List Files\n",
        "[(i, file) for i,file in enumerate(filenames)]"
      ]
    },
    {
      "cell_type": "code",
      "source": [
        "# Formatting inpatient_admissions DF\n",
        "inpt_adm = df_list[14]\n",
        "inpt_adm.rename(columns = {\n",
        "    \"First.listed.discharge.diagnosis.icd10.subcategory\": \"first_dx\",\n",
        "    \"Second.listed.discharge.diagnosis.icd10.subcategory\":\"second_dx\"}, inplace = True)\n",
        "inpt_adm.first_dx = [dx.lower().replace(\",\", \"\") for dx in inpt_adm.first_dx]\n",
        "inpt_adm.second_dx = [dx.lower().replace(\",\", \"\") for dx in inpt_adm.second_dx]\n",
        "inpt_adm.head()"
      ],
      "metadata": {
        "colab": {
          "base_uri": "https://localhost:8080/",
          "height": 600
        },
        "id": "kVvBxNg3DS5c",
        "outputId": "7cb71107-1aba-4042-b1e2-6295a949ac08"
      },
      "execution_count": 5,
      "outputs": [
        {
          "output_type": "execute_result",
          "data": {
            "text/plain": [
              "   Unnamed: 0    X  Internalpatientid  Age.at.admission  \\\n",
              "0           1    4             100012         55.317020   \n",
              "1           2   82             100399         85.706740   \n",
              "2           3  154             100694         83.926120   \n",
              "3           4  155             100694         88.611203   \n",
              "4           5  322             101407         88.925931   \n",
              "\n",
              "          Admission.date         Discharge.date Admitting.unit.service  \\\n",
              "0  2004-10-25 08:54:01.0  2004-10-26 08:05:06.0                SURGERY   \n",
              "1  2010-03-24 19:31:38.0  2012-11-10 19:50:48.0                   NHCU   \n",
              "2  2016-01-12 23:55:24.0  2016-01-13 20:55:24.0              NON-COUNT   \n",
              "3  2020-09-20 09:28:13.0  2020-09-22 11:36:18.0              NON-COUNT   \n",
              "4  2009-05-03 10:15:50.0  2009-05-04 13:05:08.0               MEDICINE   \n",
              "\n",
              "  Discharging.unit.service             Admitting.specialty  \\\n",
              "0                  SURGERY                    NEUROSURGERY   \n",
              "1                     NHCU                     DOMICILIARY   \n",
              "2                NON-COUNT              SPINAL CORD INJURY   \n",
              "3                NON-COUNT              SPINAL CORD INJURY   \n",
              "4                 MEDICINE  SPINAL CORD INJURY OBSERVATION   \n",
              "\n",
              "     Discharging.specialty                                           first_dx  \\\n",
              "0          GENERAL SURGERY  other and unspecified noninfective gastroenter...   \n",
              "1               NH HOSPICE  unspecified mental disorder due to known physi...   \n",
              "2      MEDICAL OBSERVATION             abnormal levels of other serum enzymes   \n",
              "3      MEDICAL OBSERVATION             viral intestinal infection unspecified   \n",
              "4  GENERAL(ACUTE MEDICINE)                               unspecified dementia   \n",
              "\n",
              "                                           second_dx  Discharge.disposition  \\\n",
              "0     other specified disorders of white blood cells                Regular   \n",
              "1          malignant neoplasm of stomach unspecified  Death without autopsy   \n",
              "2                other acute ischemic heart diseases                Regular   \n",
              "3                   hypo-osmolality and hyponatremia                Regular   \n",
              "4  hypertensive chronic kidney disease with stage...                Regular   \n",
              "\n",
              "   Died.during.admission Outpatientreferralflag Serviceconnectedflag  \\\n",
              "0                    NaN                    Yes                  NaN   \n",
              "1                    NaN                    NaN                   No   \n",
              "2                    NaN                    Yes                  NaN   \n",
              "3                    NaN                    Yes                  NaN   \n",
              "4                    NaN                    Yes                  NaN   \n",
              "\n",
              "  Agentorangeflag       State  \n",
              "0             NaN  New Mexico  \n",
              "1              No   Minnesota  \n",
              "2              No       Idaho  \n",
              "3              No       Idaho  \n",
              "4              No   Louisiana  "
            ],
            "text/html": [
              "\n",
              "  <div id=\"df-85c38183-f3b0-44bb-bdb7-de628d26c459\">\n",
              "    <div class=\"colab-df-container\">\n",
              "      <div>\n",
              "<style scoped>\n",
              "    .dataframe tbody tr th:only-of-type {\n",
              "        vertical-align: middle;\n",
              "    }\n",
              "\n",
              "    .dataframe tbody tr th {\n",
              "        vertical-align: top;\n",
              "    }\n",
              "\n",
              "    .dataframe thead th {\n",
              "        text-align: right;\n",
              "    }\n",
              "</style>\n",
              "<table border=\"1\" class=\"dataframe\">\n",
              "  <thead>\n",
              "    <tr style=\"text-align: right;\">\n",
              "      <th></th>\n",
              "      <th>Unnamed: 0</th>\n",
              "      <th>X</th>\n",
              "      <th>Internalpatientid</th>\n",
              "      <th>Age.at.admission</th>\n",
              "      <th>Admission.date</th>\n",
              "      <th>Discharge.date</th>\n",
              "      <th>Admitting.unit.service</th>\n",
              "      <th>Discharging.unit.service</th>\n",
              "      <th>Admitting.specialty</th>\n",
              "      <th>Discharging.specialty</th>\n",
              "      <th>first_dx</th>\n",
              "      <th>second_dx</th>\n",
              "      <th>Discharge.disposition</th>\n",
              "      <th>Died.during.admission</th>\n",
              "      <th>Outpatientreferralflag</th>\n",
              "      <th>Serviceconnectedflag</th>\n",
              "      <th>Agentorangeflag</th>\n",
              "      <th>State</th>\n",
              "    </tr>\n",
              "  </thead>\n",
              "  <tbody>\n",
              "    <tr>\n",
              "      <th>0</th>\n",
              "      <td>1</td>\n",
              "      <td>4</td>\n",
              "      <td>100012</td>\n",
              "      <td>55.317020</td>\n",
              "      <td>2004-10-25 08:54:01.0</td>\n",
              "      <td>2004-10-26 08:05:06.0</td>\n",
              "      <td>SURGERY</td>\n",
              "      <td>SURGERY</td>\n",
              "      <td>NEUROSURGERY</td>\n",
              "      <td>GENERAL SURGERY</td>\n",
              "      <td>other and unspecified noninfective gastroenter...</td>\n",
              "      <td>other specified disorders of white blood cells</td>\n",
              "      <td>Regular</td>\n",
              "      <td>NaN</td>\n",
              "      <td>Yes</td>\n",
              "      <td>NaN</td>\n",
              "      <td>NaN</td>\n",
              "      <td>New Mexico</td>\n",
              "    </tr>\n",
              "    <tr>\n",
              "      <th>1</th>\n",
              "      <td>2</td>\n",
              "      <td>82</td>\n",
              "      <td>100399</td>\n",
              "      <td>85.706740</td>\n",
              "      <td>2010-03-24 19:31:38.0</td>\n",
              "      <td>2012-11-10 19:50:48.0</td>\n",
              "      <td>NHCU</td>\n",
              "      <td>NHCU</td>\n",
              "      <td>DOMICILIARY</td>\n",
              "      <td>NH HOSPICE</td>\n",
              "      <td>unspecified mental disorder due to known physi...</td>\n",
              "      <td>malignant neoplasm of stomach unspecified</td>\n",
              "      <td>Death without autopsy</td>\n",
              "      <td>NaN</td>\n",
              "      <td>NaN</td>\n",
              "      <td>No</td>\n",
              "      <td>No</td>\n",
              "      <td>Minnesota</td>\n",
              "    </tr>\n",
              "    <tr>\n",
              "      <th>2</th>\n",
              "      <td>3</td>\n",
              "      <td>154</td>\n",
              "      <td>100694</td>\n",
              "      <td>83.926120</td>\n",
              "      <td>2016-01-12 23:55:24.0</td>\n",
              "      <td>2016-01-13 20:55:24.0</td>\n",
              "      <td>NON-COUNT</td>\n",
              "      <td>NON-COUNT</td>\n",
              "      <td>SPINAL CORD INJURY</td>\n",
              "      <td>MEDICAL OBSERVATION</td>\n",
              "      <td>abnormal levels of other serum enzymes</td>\n",
              "      <td>other acute ischemic heart diseases</td>\n",
              "      <td>Regular</td>\n",
              "      <td>NaN</td>\n",
              "      <td>Yes</td>\n",
              "      <td>NaN</td>\n",
              "      <td>No</td>\n",
              "      <td>Idaho</td>\n",
              "    </tr>\n",
              "    <tr>\n",
              "      <th>3</th>\n",
              "      <td>4</td>\n",
              "      <td>155</td>\n",
              "      <td>100694</td>\n",
              "      <td>88.611203</td>\n",
              "      <td>2020-09-20 09:28:13.0</td>\n",
              "      <td>2020-09-22 11:36:18.0</td>\n",
              "      <td>NON-COUNT</td>\n",
              "      <td>NON-COUNT</td>\n",
              "      <td>SPINAL CORD INJURY</td>\n",
              "      <td>MEDICAL OBSERVATION</td>\n",
              "      <td>viral intestinal infection unspecified</td>\n",
              "      <td>hypo-osmolality and hyponatremia</td>\n",
              "      <td>Regular</td>\n",
              "      <td>NaN</td>\n",
              "      <td>Yes</td>\n",
              "      <td>NaN</td>\n",
              "      <td>No</td>\n",
              "      <td>Idaho</td>\n",
              "    </tr>\n",
              "    <tr>\n",
              "      <th>4</th>\n",
              "      <td>5</td>\n",
              "      <td>322</td>\n",
              "      <td>101407</td>\n",
              "      <td>88.925931</td>\n",
              "      <td>2009-05-03 10:15:50.0</td>\n",
              "      <td>2009-05-04 13:05:08.0</td>\n",
              "      <td>MEDICINE</td>\n",
              "      <td>MEDICINE</td>\n",
              "      <td>SPINAL CORD INJURY OBSERVATION</td>\n",
              "      <td>GENERAL(ACUTE MEDICINE)</td>\n",
              "      <td>unspecified dementia</td>\n",
              "      <td>hypertensive chronic kidney disease with stage...</td>\n",
              "      <td>Regular</td>\n",
              "      <td>NaN</td>\n",
              "      <td>Yes</td>\n",
              "      <td>NaN</td>\n",
              "      <td>No</td>\n",
              "      <td>Louisiana</td>\n",
              "    </tr>\n",
              "  </tbody>\n",
              "</table>\n",
              "</div>\n",
              "      <button class=\"colab-df-convert\" onclick=\"convertToInteractive('df-85c38183-f3b0-44bb-bdb7-de628d26c459')\"\n",
              "              title=\"Convert this dataframe to an interactive table.\"\n",
              "              style=\"display:none;\">\n",
              "        \n",
              "  <svg xmlns=\"http://www.w3.org/2000/svg\" height=\"24px\"viewBox=\"0 0 24 24\"\n",
              "       width=\"24px\">\n",
              "    <path d=\"M0 0h24v24H0V0z\" fill=\"none\"/>\n",
              "    <path d=\"M18.56 5.44l.94 2.06.94-2.06 2.06-.94-2.06-.94-.94-2.06-.94 2.06-2.06.94zm-11 1L8.5 8.5l.94-2.06 2.06-.94-2.06-.94L8.5 2.5l-.94 2.06-2.06.94zm10 10l.94 2.06.94-2.06 2.06-.94-2.06-.94-.94-2.06-.94 2.06-2.06.94z\"/><path d=\"M17.41 7.96l-1.37-1.37c-.4-.4-.92-.59-1.43-.59-.52 0-1.04.2-1.43.59L10.3 9.45l-7.72 7.72c-.78.78-.78 2.05 0 2.83L4 21.41c.39.39.9.59 1.41.59.51 0 1.02-.2 1.41-.59l7.78-7.78 2.81-2.81c.8-.78.8-2.07 0-2.86zM5.41 20L4 18.59l7.72-7.72 1.47 1.35L5.41 20z\"/>\n",
              "  </svg>\n",
              "      </button>\n",
              "      \n",
              "  <style>\n",
              "    .colab-df-container {\n",
              "      display:flex;\n",
              "      flex-wrap:wrap;\n",
              "      gap: 12px;\n",
              "    }\n",
              "\n",
              "    .colab-df-convert {\n",
              "      background-color: #E8F0FE;\n",
              "      border: none;\n",
              "      border-radius: 50%;\n",
              "      cursor: pointer;\n",
              "      display: none;\n",
              "      fill: #1967D2;\n",
              "      height: 32px;\n",
              "      padding: 0 0 0 0;\n",
              "      width: 32px;\n",
              "    }\n",
              "\n",
              "    .colab-df-convert:hover {\n",
              "      background-color: #E2EBFA;\n",
              "      box-shadow: 0px 1px 2px rgba(60, 64, 67, 0.3), 0px 1px 3px 1px rgba(60, 64, 67, 0.15);\n",
              "      fill: #174EA6;\n",
              "    }\n",
              "\n",
              "    [theme=dark] .colab-df-convert {\n",
              "      background-color: #3B4455;\n",
              "      fill: #D2E3FC;\n",
              "    }\n",
              "\n",
              "    [theme=dark] .colab-df-convert:hover {\n",
              "      background-color: #434B5C;\n",
              "      box-shadow: 0px 1px 3px 1px rgba(0, 0, 0, 0.15);\n",
              "      filter: drop-shadow(0px 1px 2px rgba(0, 0, 0, 0.3));\n",
              "      fill: #FFFFFF;\n",
              "    }\n",
              "  </style>\n",
              "\n",
              "      <script>\n",
              "        const buttonEl =\n",
              "          document.querySelector('#df-85c38183-f3b0-44bb-bdb7-de628d26c459 button.colab-df-convert');\n",
              "        buttonEl.style.display =\n",
              "          google.colab.kernel.accessAllowed ? 'block' : 'none';\n",
              "\n",
              "        async function convertToInteractive(key) {\n",
              "          const element = document.querySelector('#df-85c38183-f3b0-44bb-bdb7-de628d26c459');\n",
              "          const dataTable =\n",
              "            await google.colab.kernel.invokeFunction('convertToInteractive',\n",
              "                                                     [key], {});\n",
              "          if (!dataTable) return;\n",
              "\n",
              "          const docLinkHtml = 'Like what you see? Visit the ' +\n",
              "            '<a target=\"_blank\" href=https://colab.research.google.com/notebooks/data_table.ipynb>data table notebook</a>'\n",
              "            + ' to learn more about interactive tables.';\n",
              "          element.innerHTML = '';\n",
              "          dataTable['output_type'] = 'display_data';\n",
              "          await google.colab.output.renderOutput(dataTable, element);\n",
              "          const docLink = document.createElement('div');\n",
              "          docLink.innerHTML = docLinkHtml;\n",
              "          element.appendChild(docLink);\n",
              "        }\n",
              "      </script>\n",
              "    </div>\n",
              "  </div>\n",
              "  "
            ]
          },
          "metadata": {},
          "execution_count": 5
        }
      ]
    },
    {
      "cell_type": "code",
      "execution_count": 6,
      "metadata": {
        "colab": {
          "base_uri": "https://localhost:8080/",
          "height": 206
        },
        "id": "4QmmbhmLQMHv",
        "outputId": "0b847441-5f20-491a-82a1-118a6a098fb5"
      },
      "outputs": [
        {
          "output_type": "execute_result",
          "data": {
            "text/plain": [
              "    code                                        description\n",
              "0   A000  cholera due to vibrio cholerae 01 biovar cholerae\n",
              "1   A001     cholera due to vibrio cholerae 01 biovar eltor\n",
              "2   A009                                cholera unspecified\n",
              "3  A0100                          typhoid fever unspecified\n",
              "4  A0101                                 typhoid meningitis"
            ],
            "text/html": [
              "\n",
              "  <div id=\"df-2d95e803-868f-4f4a-a538-b7667c05628a\">\n",
              "    <div class=\"colab-df-container\">\n",
              "      <div>\n",
              "<style scoped>\n",
              "    .dataframe tbody tr th:only-of-type {\n",
              "        vertical-align: middle;\n",
              "    }\n",
              "\n",
              "    .dataframe tbody tr th {\n",
              "        vertical-align: top;\n",
              "    }\n",
              "\n",
              "    .dataframe thead th {\n",
              "        text-align: right;\n",
              "    }\n",
              "</style>\n",
              "<table border=\"1\" class=\"dataframe\">\n",
              "  <thead>\n",
              "    <tr style=\"text-align: right;\">\n",
              "      <th></th>\n",
              "      <th>code</th>\n",
              "      <th>description</th>\n",
              "    </tr>\n",
              "  </thead>\n",
              "  <tbody>\n",
              "    <tr>\n",
              "      <th>0</th>\n",
              "      <td>A000</td>\n",
              "      <td>cholera due to vibrio cholerae 01 biovar cholerae</td>\n",
              "    </tr>\n",
              "    <tr>\n",
              "      <th>1</th>\n",
              "      <td>A001</td>\n",
              "      <td>cholera due to vibrio cholerae 01 biovar eltor</td>\n",
              "    </tr>\n",
              "    <tr>\n",
              "      <th>2</th>\n",
              "      <td>A009</td>\n",
              "      <td>cholera unspecified</td>\n",
              "    </tr>\n",
              "    <tr>\n",
              "      <th>3</th>\n",
              "      <td>A0100</td>\n",
              "      <td>typhoid fever unspecified</td>\n",
              "    </tr>\n",
              "    <tr>\n",
              "      <th>4</th>\n",
              "      <td>A0101</td>\n",
              "      <td>typhoid meningitis</td>\n",
              "    </tr>\n",
              "  </tbody>\n",
              "</table>\n",
              "</div>\n",
              "      <button class=\"colab-df-convert\" onclick=\"convertToInteractive('df-2d95e803-868f-4f4a-a538-b7667c05628a')\"\n",
              "              title=\"Convert this dataframe to an interactive table.\"\n",
              "              style=\"display:none;\">\n",
              "        \n",
              "  <svg xmlns=\"http://www.w3.org/2000/svg\" height=\"24px\"viewBox=\"0 0 24 24\"\n",
              "       width=\"24px\">\n",
              "    <path d=\"M0 0h24v24H0V0z\" fill=\"none\"/>\n",
              "    <path d=\"M18.56 5.44l.94 2.06.94-2.06 2.06-.94-2.06-.94-.94-2.06-.94 2.06-2.06.94zm-11 1L8.5 8.5l.94-2.06 2.06-.94-2.06-.94L8.5 2.5l-.94 2.06-2.06.94zm10 10l.94 2.06.94-2.06 2.06-.94-2.06-.94-.94-2.06-.94 2.06-2.06.94z\"/><path d=\"M17.41 7.96l-1.37-1.37c-.4-.4-.92-.59-1.43-.59-.52 0-1.04.2-1.43.59L10.3 9.45l-7.72 7.72c-.78.78-.78 2.05 0 2.83L4 21.41c.39.39.9.59 1.41.59.51 0 1.02-.2 1.41-.59l7.78-7.78 2.81-2.81c.8-.78.8-2.07 0-2.86zM5.41 20L4 18.59l7.72-7.72 1.47 1.35L5.41 20z\"/>\n",
              "  </svg>\n",
              "      </button>\n",
              "      \n",
              "  <style>\n",
              "    .colab-df-container {\n",
              "      display:flex;\n",
              "      flex-wrap:wrap;\n",
              "      gap: 12px;\n",
              "    }\n",
              "\n",
              "    .colab-df-convert {\n",
              "      background-color: #E8F0FE;\n",
              "      border: none;\n",
              "      border-radius: 50%;\n",
              "      cursor: pointer;\n",
              "      display: none;\n",
              "      fill: #1967D2;\n",
              "      height: 32px;\n",
              "      padding: 0 0 0 0;\n",
              "      width: 32px;\n",
              "    }\n",
              "\n",
              "    .colab-df-convert:hover {\n",
              "      background-color: #E2EBFA;\n",
              "      box-shadow: 0px 1px 2px rgba(60, 64, 67, 0.3), 0px 1px 3px 1px rgba(60, 64, 67, 0.15);\n",
              "      fill: #174EA6;\n",
              "    }\n",
              "\n",
              "    [theme=dark] .colab-df-convert {\n",
              "      background-color: #3B4455;\n",
              "      fill: #D2E3FC;\n",
              "    }\n",
              "\n",
              "    [theme=dark] .colab-df-convert:hover {\n",
              "      background-color: #434B5C;\n",
              "      box-shadow: 0px 1px 3px 1px rgba(0, 0, 0, 0.15);\n",
              "      filter: drop-shadow(0px 1px 2px rgba(0, 0, 0, 0.3));\n",
              "      fill: #FFFFFF;\n",
              "    }\n",
              "  </style>\n",
              "\n",
              "      <script>\n",
              "        const buttonEl =\n",
              "          document.querySelector('#df-2d95e803-868f-4f4a-a538-b7667c05628a button.colab-df-convert');\n",
              "        buttonEl.style.display =\n",
              "          google.colab.kernel.accessAllowed ? 'block' : 'none';\n",
              "\n",
              "        async function convertToInteractive(key) {\n",
              "          const element = document.querySelector('#df-2d95e803-868f-4f4a-a538-b7667c05628a');\n",
              "          const dataTable =\n",
              "            await google.colab.kernel.invokeFunction('convertToInteractive',\n",
              "                                                     [key], {});\n",
              "          if (!dataTable) return;\n",
              "\n",
              "          const docLinkHtml = 'Like what you see? Visit the ' +\n",
              "            '<a target=\"_blank\" href=https://colab.research.google.com/notebooks/data_table.ipynb>data table notebook</a>'\n",
              "            + ' to learn more about interactive tables.';\n",
              "          element.innerHTML = '';\n",
              "          dataTable['output_type'] = 'display_data';\n",
              "          await google.colab.output.renderOutput(dataTable, element);\n",
              "          const docLink = document.createElement('div');\n",
              "          docLink.innerHTML = docLinkHtml;\n",
              "          element.appendChild(docLink);\n",
              "        }\n",
              "      </script>\n",
              "    </div>\n",
              "  </div>\n",
              "  "
            ]
          },
          "metadata": {},
          "execution_count": 6
        }
      ],
      "source": [
        "# Reading and Formatting ICD10 codes files\n",
        "icd_codes = pd.read_csv(\"/content/drive/MyDrive/Colab Notebooks/v-CHAMPS/icd10cm_codes_2018.csv\", encoding=\"utf-8\" ,header = None)\n",
        "icd_codes.fillna(\"\", inplace=True)\n",
        "icd_codes['description'] = icd_codes[0] + \" \" + icd_codes[1]\n",
        "icd_codes['code'] = [code.split(\" \")[0] for code in icd_codes['description']]\n",
        "icd_codes['description'] = [des.split(\" \", 1)[1] for des in icd_codes['description']]\n",
        "icd_codes = icd_codes.drop(columns = [0,1,2,3,4,5])[['code','description']]\n",
        "icd_codes.description = [desc.lower().strip().replace(\"  \",\" \") for desc in icd_codes.description]\n",
        "icd_codes.head()"
      ]
    },
    {
      "cell_type": "markdown",
      "source": [
        "## Examining ICD Duplicates\n",
        "The icd_codes DF has multiple duplicates of descriptions, with different codes associated with each one."
      ],
      "metadata": {
        "id": "SDb1Vmh1o1nj"
      }
    },
    {
      "cell_type": "code",
      "source": [
        "# Each duplicate has a different ICD code\n",
        "icd_codes[icd_codes.duplicated(\"description\")].description.value_counts()"
      ],
      "metadata": {
        "colab": {
          "base_uri": "https://localhost:8080/"
        },
        "id": "KN3BBWpRKq0s",
        "outputId": "8e81b290-caaf-4b2c-c030-bdd79214bfe1"
      },
      "execution_count": 7,
      "outputs": [
        {
          "output_type": "execute_result",
          "data": {
            "text/plain": [
              "contusion laceration                                    51\n",
              "collapsed vertebra not elsewhere classified             35\n",
              "coma scale best motor response                          29\n",
              "disorder of amniotic fluid and membranes unspecified    27\n",
              "infection of amniotic sac and membranes unspecified     27\n",
              "                                                        ..\n",
              "drug-induced chronic gout right wrist                    1\n",
              "drug-induced chronic gout unspecified elbow              1\n",
              "drug-induced chronic gout left elbow                     1\n",
              "drug-induced chronic gout right elbow                    1\n",
              "multiple births unspecified                              1\n",
              "Name: description, Length: 5237, dtype: int64"
            ]
          },
          "metadata": {},
          "execution_count": 7
        }
      ]
    },
    {
      "cell_type": "code",
      "source": [
        "# There are no duplicates of ICD codes themselves\n",
        "print(len(icd_codes[icd_codes.duplicated(\"code\")].code.value_counts()))"
      ],
      "metadata": {
        "colab": {
          "base_uri": "https://localhost:8080/"
        },
        "id": "Pb1cgb5_pZeO",
        "outputId": "5881c7a1-f896-43ff-8b14-37bbdd3448c8"
      },
      "execution_count": 8,
      "outputs": [
        {
          "output_type": "stream",
          "name": "stdout",
          "text": [
            "0\n"
          ]
        }
      ]
    },
    {
      "cell_type": "code",
      "source": [
        "# Writing Duplicates to CSV\n",
        "# Change file path and remove block quotes to write csv\n",
        "\"\"\"\n",
        "ICDduplicates = pd.DataFrame(data = {\n",
        "    \"ICD Description\":icd_codes[icd_codes.duplicated(\"description\")].description.value_counts().index,\n",
        "    \"Count\":icd_codes[icd_codes.duplicated(\"description\")].description.value_counts().values})\n",
        "ICDduplicates.to_csv(\"/content/drive/MyDrive/Colab Notebooks/v-CHAMPS/icd_duplicates.csv\", index = False)\n",
        "\"\"\""
      ],
      "metadata": {
        "colab": {
          "base_uri": "https://localhost:8080/",
          "height": 54
        },
        "id": "clYOKm8-YlJ_",
        "outputId": "c27e2b08-58ac-4822-c066-8576cb32b0d0"
      },
      "execution_count": 9,
      "outputs": [
        {
          "output_type": "execute_result",
          "data": {
            "text/plain": [
              "'\\nICDduplicates = pd.DataFrame(data = {\\n    \"ICD Description\":icd_codes[icd_codes.duplicated(\"description\")].description.value_counts().index, \\n    \"Count\":icd_codes[icd_codes.duplicated(\"description\")].description.value_counts().values})\\nICDduplicates.to_csv(\"/content/drive/MyDrive/Colab Notebooks/v-CHAMPS/icd_duplicates.csv\", index = False)\\n'"
            ],
            "application/vnd.google.colaboratory.intrinsic+json": {
              "type": "string"
            }
          },
          "metadata": {},
          "execution_count": 9
        }
      ]
    },
    {
      "cell_type": "markdown",
      "source": [
        "## Merging DataFrames\n",
        "\n",
        "The \"inpt_adm\" dataframe and \"icd_codes\" dataframe are merged by matching on the 'first_dx' and 'description' columns."
      ],
      "metadata": {
        "id": "OmDABmx9mLtB"
      }
    },
    {
      "cell_type": "code",
      "source": [
        "merged_df = pd.merge(inpt_adm, icd_codes, left_on = 'first_dx', right_on = \"description\", how = 'left')\n",
        "merged_df.head(5)"
      ],
      "metadata": {
        "id": "SlvR8RC6Aqf6",
        "colab": {
          "base_uri": "https://localhost:8080/",
          "height": 600
        },
        "outputId": "8d10fc52-4fb5-473d-8e1e-b1f30a366f2b"
      },
      "execution_count": 10,
      "outputs": [
        {
          "output_type": "execute_result",
          "data": {
            "text/plain": [
              "   Unnamed: 0    X  Internalpatientid  Age.at.admission  \\\n",
              "0           1    4             100012         55.317020   \n",
              "1           2   82             100399         85.706740   \n",
              "2           3  154             100694         83.926120   \n",
              "3           4  155             100694         88.611203   \n",
              "4           5  322             101407         88.925931   \n",
              "\n",
              "          Admission.date         Discharge.date Admitting.unit.service  \\\n",
              "0  2004-10-25 08:54:01.0  2004-10-26 08:05:06.0                SURGERY   \n",
              "1  2010-03-24 19:31:38.0  2012-11-10 19:50:48.0                   NHCU   \n",
              "2  2016-01-12 23:55:24.0  2016-01-13 20:55:24.0              NON-COUNT   \n",
              "3  2020-09-20 09:28:13.0  2020-09-22 11:36:18.0              NON-COUNT   \n",
              "4  2009-05-03 10:15:50.0  2009-05-04 13:05:08.0               MEDICINE   \n",
              "\n",
              "  Discharging.unit.service             Admitting.specialty  \\\n",
              "0                  SURGERY                    NEUROSURGERY   \n",
              "1                     NHCU                     DOMICILIARY   \n",
              "2                NON-COUNT              SPINAL CORD INJURY   \n",
              "3                NON-COUNT              SPINAL CORD INJURY   \n",
              "4                 MEDICINE  SPINAL CORD INJURY OBSERVATION   \n",
              "\n",
              "     Discharging.specialty                                           first_dx  \\\n",
              "0          GENERAL SURGERY  other and unspecified noninfective gastroenter...   \n",
              "1               NH HOSPICE  unspecified mental disorder due to known physi...   \n",
              "2      MEDICAL OBSERVATION             abnormal levels of other serum enzymes   \n",
              "3      MEDICAL OBSERVATION             viral intestinal infection unspecified   \n",
              "4  GENERAL(ACUTE MEDICINE)                               unspecified dementia   \n",
              "\n",
              "                                           second_dx  Discharge.disposition  \\\n",
              "0     other specified disorders of white blood cells                Regular   \n",
              "1          malignant neoplasm of stomach unspecified  Death without autopsy   \n",
              "2                other acute ischemic heart diseases                Regular   \n",
              "3                   hypo-osmolality and hyponatremia                Regular   \n",
              "4  hypertensive chronic kidney disease with stage...                Regular   \n",
              "\n",
              "   Died.during.admission Outpatientreferralflag Serviceconnectedflag  \\\n",
              "0                    NaN                    Yes                  NaN   \n",
              "1                    NaN                    NaN                   No   \n",
              "2                    NaN                    Yes                  NaN   \n",
              "3                    NaN                    Yes                  NaN   \n",
              "4                    NaN                    Yes                  NaN   \n",
              "\n",
              "  Agentorangeflag       State  code  \\\n",
              "0             NaN  New Mexico   NaN   \n",
              "1              No   Minnesota   F09   \n",
              "2              No       Idaho  R748   \n",
              "3              No       Idaho  A084   \n",
              "4              No   Louisiana   NaN   \n",
              "\n",
              "                                         description  \n",
              "0                                                NaN  \n",
              "1  unspecified mental disorder due to known physi...  \n",
              "2             abnormal levels of other serum enzymes  \n",
              "3             viral intestinal infection unspecified  \n",
              "4                                                NaN  "
            ],
            "text/html": [
              "\n",
              "  <div id=\"df-8d79451c-77ab-4410-8bde-b19cf1886832\">\n",
              "    <div class=\"colab-df-container\">\n",
              "      <div>\n",
              "<style scoped>\n",
              "    .dataframe tbody tr th:only-of-type {\n",
              "        vertical-align: middle;\n",
              "    }\n",
              "\n",
              "    .dataframe tbody tr th {\n",
              "        vertical-align: top;\n",
              "    }\n",
              "\n",
              "    .dataframe thead th {\n",
              "        text-align: right;\n",
              "    }\n",
              "</style>\n",
              "<table border=\"1\" class=\"dataframe\">\n",
              "  <thead>\n",
              "    <tr style=\"text-align: right;\">\n",
              "      <th></th>\n",
              "      <th>Unnamed: 0</th>\n",
              "      <th>X</th>\n",
              "      <th>Internalpatientid</th>\n",
              "      <th>Age.at.admission</th>\n",
              "      <th>Admission.date</th>\n",
              "      <th>Discharge.date</th>\n",
              "      <th>Admitting.unit.service</th>\n",
              "      <th>Discharging.unit.service</th>\n",
              "      <th>Admitting.specialty</th>\n",
              "      <th>Discharging.specialty</th>\n",
              "      <th>first_dx</th>\n",
              "      <th>second_dx</th>\n",
              "      <th>Discharge.disposition</th>\n",
              "      <th>Died.during.admission</th>\n",
              "      <th>Outpatientreferralflag</th>\n",
              "      <th>Serviceconnectedflag</th>\n",
              "      <th>Agentorangeflag</th>\n",
              "      <th>State</th>\n",
              "      <th>code</th>\n",
              "      <th>description</th>\n",
              "    </tr>\n",
              "  </thead>\n",
              "  <tbody>\n",
              "    <tr>\n",
              "      <th>0</th>\n",
              "      <td>1</td>\n",
              "      <td>4</td>\n",
              "      <td>100012</td>\n",
              "      <td>55.317020</td>\n",
              "      <td>2004-10-25 08:54:01.0</td>\n",
              "      <td>2004-10-26 08:05:06.0</td>\n",
              "      <td>SURGERY</td>\n",
              "      <td>SURGERY</td>\n",
              "      <td>NEUROSURGERY</td>\n",
              "      <td>GENERAL SURGERY</td>\n",
              "      <td>other and unspecified noninfective gastroenter...</td>\n",
              "      <td>other specified disorders of white blood cells</td>\n",
              "      <td>Regular</td>\n",
              "      <td>NaN</td>\n",
              "      <td>Yes</td>\n",
              "      <td>NaN</td>\n",
              "      <td>NaN</td>\n",
              "      <td>New Mexico</td>\n",
              "      <td>NaN</td>\n",
              "      <td>NaN</td>\n",
              "    </tr>\n",
              "    <tr>\n",
              "      <th>1</th>\n",
              "      <td>2</td>\n",
              "      <td>82</td>\n",
              "      <td>100399</td>\n",
              "      <td>85.706740</td>\n",
              "      <td>2010-03-24 19:31:38.0</td>\n",
              "      <td>2012-11-10 19:50:48.0</td>\n",
              "      <td>NHCU</td>\n",
              "      <td>NHCU</td>\n",
              "      <td>DOMICILIARY</td>\n",
              "      <td>NH HOSPICE</td>\n",
              "      <td>unspecified mental disorder due to known physi...</td>\n",
              "      <td>malignant neoplasm of stomach unspecified</td>\n",
              "      <td>Death without autopsy</td>\n",
              "      <td>NaN</td>\n",
              "      <td>NaN</td>\n",
              "      <td>No</td>\n",
              "      <td>No</td>\n",
              "      <td>Minnesota</td>\n",
              "      <td>F09</td>\n",
              "      <td>unspecified mental disorder due to known physi...</td>\n",
              "    </tr>\n",
              "    <tr>\n",
              "      <th>2</th>\n",
              "      <td>3</td>\n",
              "      <td>154</td>\n",
              "      <td>100694</td>\n",
              "      <td>83.926120</td>\n",
              "      <td>2016-01-12 23:55:24.0</td>\n",
              "      <td>2016-01-13 20:55:24.0</td>\n",
              "      <td>NON-COUNT</td>\n",
              "      <td>NON-COUNT</td>\n",
              "      <td>SPINAL CORD INJURY</td>\n",
              "      <td>MEDICAL OBSERVATION</td>\n",
              "      <td>abnormal levels of other serum enzymes</td>\n",
              "      <td>other acute ischemic heart diseases</td>\n",
              "      <td>Regular</td>\n",
              "      <td>NaN</td>\n",
              "      <td>Yes</td>\n",
              "      <td>NaN</td>\n",
              "      <td>No</td>\n",
              "      <td>Idaho</td>\n",
              "      <td>R748</td>\n",
              "      <td>abnormal levels of other serum enzymes</td>\n",
              "    </tr>\n",
              "    <tr>\n",
              "      <th>3</th>\n",
              "      <td>4</td>\n",
              "      <td>155</td>\n",
              "      <td>100694</td>\n",
              "      <td>88.611203</td>\n",
              "      <td>2020-09-20 09:28:13.0</td>\n",
              "      <td>2020-09-22 11:36:18.0</td>\n",
              "      <td>NON-COUNT</td>\n",
              "      <td>NON-COUNT</td>\n",
              "      <td>SPINAL CORD INJURY</td>\n",
              "      <td>MEDICAL OBSERVATION</td>\n",
              "      <td>viral intestinal infection unspecified</td>\n",
              "      <td>hypo-osmolality and hyponatremia</td>\n",
              "      <td>Regular</td>\n",
              "      <td>NaN</td>\n",
              "      <td>Yes</td>\n",
              "      <td>NaN</td>\n",
              "      <td>No</td>\n",
              "      <td>Idaho</td>\n",
              "      <td>A084</td>\n",
              "      <td>viral intestinal infection unspecified</td>\n",
              "    </tr>\n",
              "    <tr>\n",
              "      <th>4</th>\n",
              "      <td>5</td>\n",
              "      <td>322</td>\n",
              "      <td>101407</td>\n",
              "      <td>88.925931</td>\n",
              "      <td>2009-05-03 10:15:50.0</td>\n",
              "      <td>2009-05-04 13:05:08.0</td>\n",
              "      <td>MEDICINE</td>\n",
              "      <td>MEDICINE</td>\n",
              "      <td>SPINAL CORD INJURY OBSERVATION</td>\n",
              "      <td>GENERAL(ACUTE MEDICINE)</td>\n",
              "      <td>unspecified dementia</td>\n",
              "      <td>hypertensive chronic kidney disease with stage...</td>\n",
              "      <td>Regular</td>\n",
              "      <td>NaN</td>\n",
              "      <td>Yes</td>\n",
              "      <td>NaN</td>\n",
              "      <td>No</td>\n",
              "      <td>Louisiana</td>\n",
              "      <td>NaN</td>\n",
              "      <td>NaN</td>\n",
              "    </tr>\n",
              "  </tbody>\n",
              "</table>\n",
              "</div>\n",
              "      <button class=\"colab-df-convert\" onclick=\"convertToInteractive('df-8d79451c-77ab-4410-8bde-b19cf1886832')\"\n",
              "              title=\"Convert this dataframe to an interactive table.\"\n",
              "              style=\"display:none;\">\n",
              "        \n",
              "  <svg xmlns=\"http://www.w3.org/2000/svg\" height=\"24px\"viewBox=\"0 0 24 24\"\n",
              "       width=\"24px\">\n",
              "    <path d=\"M0 0h24v24H0V0z\" fill=\"none\"/>\n",
              "    <path d=\"M18.56 5.44l.94 2.06.94-2.06 2.06-.94-2.06-.94-.94-2.06-.94 2.06-2.06.94zm-11 1L8.5 8.5l.94-2.06 2.06-.94-2.06-.94L8.5 2.5l-.94 2.06-2.06.94zm10 10l.94 2.06.94-2.06 2.06-.94-2.06-.94-.94-2.06-.94 2.06-2.06.94z\"/><path d=\"M17.41 7.96l-1.37-1.37c-.4-.4-.92-.59-1.43-.59-.52 0-1.04.2-1.43.59L10.3 9.45l-7.72 7.72c-.78.78-.78 2.05 0 2.83L4 21.41c.39.39.9.59 1.41.59.51 0 1.02-.2 1.41-.59l7.78-7.78 2.81-2.81c.8-.78.8-2.07 0-2.86zM5.41 20L4 18.59l7.72-7.72 1.47 1.35L5.41 20z\"/>\n",
              "  </svg>\n",
              "      </button>\n",
              "      \n",
              "  <style>\n",
              "    .colab-df-container {\n",
              "      display:flex;\n",
              "      flex-wrap:wrap;\n",
              "      gap: 12px;\n",
              "    }\n",
              "\n",
              "    .colab-df-convert {\n",
              "      background-color: #E8F0FE;\n",
              "      border: none;\n",
              "      border-radius: 50%;\n",
              "      cursor: pointer;\n",
              "      display: none;\n",
              "      fill: #1967D2;\n",
              "      height: 32px;\n",
              "      padding: 0 0 0 0;\n",
              "      width: 32px;\n",
              "    }\n",
              "\n",
              "    .colab-df-convert:hover {\n",
              "      background-color: #E2EBFA;\n",
              "      box-shadow: 0px 1px 2px rgba(60, 64, 67, 0.3), 0px 1px 3px 1px rgba(60, 64, 67, 0.15);\n",
              "      fill: #174EA6;\n",
              "    }\n",
              "\n",
              "    [theme=dark] .colab-df-convert {\n",
              "      background-color: #3B4455;\n",
              "      fill: #D2E3FC;\n",
              "    }\n",
              "\n",
              "    [theme=dark] .colab-df-convert:hover {\n",
              "      background-color: #434B5C;\n",
              "      box-shadow: 0px 1px 3px 1px rgba(0, 0, 0, 0.15);\n",
              "      filter: drop-shadow(0px 1px 2px rgba(0, 0, 0, 0.3));\n",
              "      fill: #FFFFFF;\n",
              "    }\n",
              "  </style>\n",
              "\n",
              "      <script>\n",
              "        const buttonEl =\n",
              "          document.querySelector('#df-8d79451c-77ab-4410-8bde-b19cf1886832 button.colab-df-convert');\n",
              "        buttonEl.style.display =\n",
              "          google.colab.kernel.accessAllowed ? 'block' : 'none';\n",
              "\n",
              "        async function convertToInteractive(key) {\n",
              "          const element = document.querySelector('#df-8d79451c-77ab-4410-8bde-b19cf1886832');\n",
              "          const dataTable =\n",
              "            await google.colab.kernel.invokeFunction('convertToInteractive',\n",
              "                                                     [key], {});\n",
              "          if (!dataTable) return;\n",
              "\n",
              "          const docLinkHtml = 'Like what you see? Visit the ' +\n",
              "            '<a target=\"_blank\" href=https://colab.research.google.com/notebooks/data_table.ipynb>data table notebook</a>'\n",
              "            + ' to learn more about interactive tables.';\n",
              "          element.innerHTML = '';\n",
              "          dataTable['output_type'] = 'display_data';\n",
              "          await google.colab.output.renderOutput(dataTable, element);\n",
              "          const docLink = document.createElement('div');\n",
              "          docLink.innerHTML = docLinkHtml;\n",
              "          element.appendChild(docLink);\n",
              "        }\n",
              "      </script>\n",
              "    </div>\n",
              "  </div>\n",
              "  "
            ]
          },
          "metadata": {},
          "execution_count": 10
        }
      ]
    },
    {
      "cell_type": "code",
      "source": [
        "# Examining null counts in merged DF\n",
        "merged_df[['first_dx','second_dx','code','description']].isnull().sum()"
      ],
      "metadata": {
        "colab": {
          "base_uri": "https://localhost:8080/"
        },
        "id": "Krj5hzQwCFOG",
        "outputId": "91898589-196e-4aa1-9846-07c5c9f80a66"
      },
      "execution_count": 11,
      "outputs": [
        {
          "output_type": "execute_result",
          "data": {
            "text/plain": [
              "first_dx          0\n",
              "second_dx         0\n",
              "code           1845\n",
              "description    1845\n",
              "dtype: int64"
            ]
          },
          "metadata": {},
          "execution_count": 11
        }
      ]
    },
    {
      "cell_type": "code",
      "source": [
        "# Comparing sizes of original inpatient_admissions DF and the merged DF\n",
        "inpt_adm.shape, merged_df.shape"
      ],
      "metadata": {
        "colab": {
          "base_uri": "https://localhost:8080/"
        },
        "id": "syfPjqXViJny",
        "outputId": "3f0172f4-6a75-4ea7-822d-24b94824ec35"
      },
      "execution_count": 12,
      "outputs": [
        {
          "output_type": "execute_result",
          "data": {
            "text/plain": [
              "((4010, 18), (4306, 20))"
            ]
          },
          "metadata": {},
          "execution_count": 12
        }
      ]
    },
    {
      "cell_type": "markdown",
      "source": [
        "#### Extra Rows\n",
        "The merged DF has 196 additional rows from the original inpt_adm DF. This is likely due to the duplicate descriptions in the icd_codes DF."
      ],
      "metadata": {
        "id": "RPzrvGqbm9_k"
      }
    },
    {
      "cell_type": "code",
      "source": [
        "# Comparing patient admission counts between original and merged DF\n",
        "inpt_adm.Internalpatientid.value_counts()[:10], merged_df.Internalpatientid.value_counts()[:10]"
      ],
      "metadata": {
        "colab": {
          "base_uri": "https://localhost:8080/"
        },
        "id": "zhnDWHyARh9W",
        "outputId": "e2ff9e5a-335c-4215-dd0a-f421f02ede77"
      },
      "execution_count": 13,
      "outputs": [
        {
          "output_type": "execute_result",
          "data": {
            "text/plain": [
              "(76555     89\n",
              " 135216    68\n",
              " 84413     57\n",
              " 43802     40\n",
              " 118613    36\n",
              " 88033     35\n",
              " 52767     34\n",
              " 56635     33\n",
              " 131776    32\n",
              " 26517     32\n",
              " Name: Internalpatientid, dtype: int64,\n",
              " 76555     127\n",
              " 135216     75\n",
              " 84413      57\n",
              " 4177       43\n",
              " 118613     42\n",
              " 43802      40\n",
              " 90028      38\n",
              " 88033      35\n",
              " 50323      34\n",
              " 52767      34\n",
              " Name: Internalpatientid, dtype: int64)"
            ]
          },
          "metadata": {},
          "execution_count": 13
        }
      ]
    },
    {
      "cell_type": "markdown",
      "source": [
        "The number of admissions for the top appearing patients have increased after merging.\n",
        "\n",
        "Ex: Patient 76555 now has 127 entries instead of the original 89."
      ],
      "metadata": {
        "id": "BjiNrW0Ioita"
      }
    },
    {
      "cell_type": "markdown",
      "source": [
        "### Examining diagnoses without matching ICD codes"
      ],
      "metadata": {
        "id": "B51eWL6_qMnj"
      }
    },
    {
      "cell_type": "code",
      "source": [
        "# Counts of top 10 first_dx without matching ICD codes\n",
        "merged_df[merged_df.code.isnull()].first_dx.value_counts()[:10]"
      ],
      "metadata": {
        "colab": {
          "base_uri": "https://localhost:8080/"
        },
        "id": "ed9XCsPHvqMw",
        "outputId": "c1412cba-d39c-4071-f3ff-dbb95b1a6615"
      },
      "execution_count": 14,
      "outputs": [
        {
          "output_type": "execute_result",
          "data": {
            "text/plain": [
              "atherosclerotic heart disease of native coronary artery                                                        143\n",
              "alcohol dependence                                                                                             118\n",
              "unspecified atrial fibrillation and atrial flutter                                                              98\n",
              "systolic (congestive) heart failure                                                                             66\n",
              "type 2 diabetes mellitus with other specified complications                                                     61\n",
              "cutaneous abscess furuncle and carbuncle of limb ; cellulitis and acute lymphangitis of other parts of limb     48\n",
              "diastolic (congestive) heart failure                                                                            42\n",
              "post-traumatic stress disorder (ptsd)                                                                           37\n",
              "cellulitis and acute lymphangitis of other parts of limb                                                        30\n",
              "cocaine dependence                                                                                              29\n",
              "Name: first_dx, dtype: int64"
            ]
          },
          "metadata": {},
          "execution_count": 14
        }
      ]
    },
    {
      "cell_type": "code",
      "source": [
        "# Writing unmatched diagnoses to CSV\n",
        "# Change filepath and remove block quotes to write csv\n",
        "\n",
        "\"\"\"\n",
        "unmatched_dx = pd.DataFrame(data = {\n",
        "    \"Unmatched Dx\":merged_df[merged_df.code.isnull()].first_dx.value_counts().index,\n",
        "    \"Count\":merged_df[merged_df.code.isnull()].first_dx.value_counts().values})\n",
        "unmatched_dx.to_csv(\"/content/drive/MyDrive/Colab Notebooks/v-CHAMPS/unmatched_Dx.csv\", index = False)\n",
        "\n",
        "\"\"\""
      ],
      "metadata": {
        "colab": {
          "base_uri": "https://localhost:8080/",
          "height": 54
        },
        "id": "ZIFH9chFqwaX",
        "outputId": "783a9fb2-b7f9-47d4-8a38-fc28a3ed0ec7"
      },
      "execution_count": 15,
      "outputs": [
        {
          "output_type": "execute_result",
          "data": {
            "text/plain": [
              "'\\nunmatched_dx = pd.DataFrame(data = {\\n    \"Unmatched Dx\":merged_df[merged_df.code.isnull()].first_dx.value_counts().index, \\n    \"Count\":merged_df[merged_df.code.isnull()].first_dx.value_counts().values})\\nunmatched_dx.to_csv(\"/content/drive/MyDrive/Colab Notebooks/v-CHAMPS/unmatched_Dx.csv\", index = False)\\n\\n'"
            ],
            "application/vnd.google.colaboratory.intrinsic+json": {
              "type": "string"
            }
          },
          "metadata": {},
          "execution_count": 15
        }
      ]
    },
    {
      "cell_type": "markdown",
      "source": [
        "### Why are certain diagnoses unmatched?\n",
        "\n",
        "Examining further, we can see that the descriptions for ICD codes are more specific than the diagnoses listed."
      ],
      "metadata": {
        "id": "Xm7KMcDBtdjR"
      }
    },
    {
      "cell_type": "code",
      "source": [
        "# Every ICD description concerning coronary atherosclerosis\n",
        "[desc for desc in icd_codes[icd_codes.description.str.contains(\"atherosclerotic\")].description]"
      ],
      "metadata": {
        "colab": {
          "base_uri": "https://localhost:8080/"
        },
        "id": "syoQSZq9beOw",
        "outputId": "74573daf-231d-4526-80ee-221cde923f1d"
      },
      "execution_count": 16,
      "outputs": [
        {
          "output_type": "execute_result",
          "data": {
            "text/plain": [
              "['atherosclerotic heart disease of native coronary artery without angina pectoris',\n",
              " 'atherosclerotic heart disease of native coronary artery with unstable angina pectoris',\n",
              " 'atherosclerotic heart disease of native coronary artery with angina pectoris with documented spasm',\n",
              " 'atherosclerotic heart disease of native coronary artery with other forms of angina pectoris',\n",
              " 'atherosclerotic heart disease of native coronary artery with unspecified angina pectoris']"
            ]
          },
          "metadata": {},
          "execution_count": 16
        }
      ]
    },
    {
      "cell_type": "code",
      "source": [
        "# The same as above, for alcohol dependence\n",
        "[desc for desc in icd_codes[icd_codes.description.str.contains(\"alcohol dependence\")].description]"
      ],
      "metadata": {
        "colab": {
          "base_uri": "https://localhost:8080/"
        },
        "id": "DEVItcPQb_sx",
        "outputId": "e5469373-b62d-4902-dd4b-19bfee2b201f"
      },
      "execution_count": 17,
      "outputs": [
        {
          "output_type": "execute_result",
          "data": {
            "text/plain": [
              "['alcohol dependence uncomplicated',\n",
              " 'alcohol dependence in remission',\n",
              " 'alcohol dependence with intoxication uncomplicated',\n",
              " 'alcohol dependence with intoxication delirium',\n",
              " 'alcohol dependence with intoxication unspecified',\n",
              " 'alcohol dependence with withdrawal uncomplicated',\n",
              " 'alcohol dependence with withdrawal delirium',\n",
              " 'alcohol dependence with withdrawal with perceptual disturbance',\n",
              " 'alcohol dependence with withdrawal unspecified',\n",
              " 'alcohol dependence with alcohol-induced mood disorder',\n",
              " 'alcohol dependence with alcohol-induced psychotic disorder with delusions',\n",
              " 'alcohol dependence with alcohol-induced psychotic disorder with hallucinations',\n",
              " 'alcohol dependence with alcohol-induced psychotic disorder unspecified',\n",
              " 'alcohol dependence with alcohol-induced persisting amnestic disorder',\n",
              " 'alcohol dependence with alcohol-induced persisting dementia',\n",
              " 'alcohol dependence with alcohol-induced anxiety disorder',\n",
              " 'alcohol dependence with alcohol-induced sexual dysfunction',\n",
              " 'alcohol dependence with alcohol-induced sleep disorder',\n",
              " 'alcohol dependence with other alcohol-induced disorder',\n",
              " 'alcohol dependence with unspecified alcohol-induced disorder']"
            ]
          },
          "metadata": {},
          "execution_count": 17
        }
      ]
    },
    {
      "cell_type": "code",
      "source": [
        "# The same as above, for systolic (congestive) heart failure\n",
        "[desc for desc in icd_codes[icd_codes.description.str.contains(\"systolic (congestive) heart\", regex = False)].description]"
      ],
      "metadata": {
        "colab": {
          "base_uri": "https://localhost:8080/"
        },
        "id": "ghjRt-a6uPqs",
        "outputId": "765b2cc6-5129-4257-91dd-c1c2f673b001"
      },
      "execution_count": 18,
      "outputs": [
        {
          "output_type": "execute_result",
          "data": {
            "text/plain": [
              "['unspecified systolic (congestive) heart failure',\n",
              " 'acute systolic (congestive) heart failure',\n",
              " 'chronic systolic (congestive) heart failure',\n",
              " 'acute on chronic systolic (congestive) heart failure']"
            ]
          },
          "metadata": {},
          "execution_count": 18
        }
      ]
    },
    {
      "cell_type": "code",
      "source": [
        "# The same as above, for atrial fibrillation\n",
        "[desc for desc in icd_codes[icd_codes.description.str.contains(\"atrial fibrillation\")].description]"
      ],
      "metadata": {
        "colab": {
          "base_uri": "https://localhost:8080/"
        },
        "id": "0o5562XEueec",
        "outputId": "ca82547b-8a59-49fc-ac64-9b2e79cfef65"
      },
      "execution_count": 19,
      "outputs": [
        {
          "output_type": "execute_result",
          "data": {
            "text/plain": [
              "['paroxysmal atrial fibrillation',\n",
              " 'persistent atrial fibrillation',\n",
              " 'chronic atrial fibrillation',\n",
              " 'unspecified atrial fibrillation']"
            ]
          },
          "metadata": {},
          "execution_count": 19
        }
      ]
    },
    {
      "cell_type": "code",
      "source": [
        "# The same as above, for type 2 diabetes\n",
        "[desc for desc in icd_codes[icd_codes.description.str.contains(\"type 2 diabetes mellitus with other\")].description]"
      ],
      "metadata": {
        "colab": {
          "base_uri": "https://localhost:8080/"
        },
        "id": "eWBaU9bvwxbk",
        "outputId": "07c8a49e-9692-4bd7-fb52-0837e8e0f4a2"
      },
      "execution_count": 20,
      "outputs": [
        {
          "output_type": "execute_result",
          "data": {
            "text/plain": [
              "['type 2 diabetes mellitus with other diabetic kidney complication',\n",
              " 'type 2 diabetes mellitus with other diabetic ophthalmic complication',\n",
              " 'type 2 diabetes mellitus with other diabetic neurological complication',\n",
              " 'type 2 diabetes mellitus with other circulatory complications',\n",
              " 'type 2 diabetes mellitus with other diabetic arthropathy',\n",
              " 'type 2 diabetes mellitus with other skin ulcer',\n",
              " 'type 2 diabetes mellitus with other skin complications',\n",
              " 'type 2 diabetes mellitus with other oral complications',\n",
              " 'type 2 diabetes mellitus with other specified complication']"
            ]
          },
          "metadata": {},
          "execution_count": 20
        }
      ]
    },
    {
      "cell_type": "markdown",
      "source": [
        "As for the mismatched \"type 2 diabetes...\" diagnoses, this is a case of the word 'complication' being singular in the icd_codes and plural in the diagnoses."
      ],
      "metadata": {
        "id": "OTKOZQ8oxEEk"
      }
    },
    {
      "cell_type": "markdown",
      "source": [
        "## Back to Duplicate ICD descriptions\n",
        "A closer look shows almost one-third (5096 / >15k) of the total ICD duplicates are 'unspecified' diagnoses."
      ],
      "metadata": {
        "id": "eydBRGRqvdkR"
      }
    },
    {
      "cell_type": "code",
      "source": [
        "icd_codes[icd_codes.duplicated(\"description\") & icd_codes.description.str.contains(\"unspecified\")]"
      ],
      "metadata": {
        "colab": {
          "base_uri": "https://localhost:8080/",
          "height": 424
        },
        "id": "svHW7Oe-shDU",
        "outputId": "97b21350-8e1e-47eb-e69a-916b04a5d3dd"
      },
      "execution_count": 21,
      "outputs": [
        {
          "output_type": "execute_result",
          "data": {
            "text/plain": [
              "          code                                        description\n",
              "918      B6790                         echinococcosis unspecified\n",
              "1066      C009              malignant neoplasm of lip unspecified\n",
              "1790     C8191                       hodgkin lymphoma unspecified\n",
              "1791     C8192                       hodgkin lymphoma unspecified\n",
              "1792     C8193                       hodgkin lymphoma unspecified\n",
              "...        ...                                                ...\n",
              "69917  Y3790XS                    military operations unspecified\n",
              "70764    Z3491  encounter for supervision of normal pregnancy ...\n",
              "70765    Z3492  encounter for supervision of normal pregnancy ...\n",
              "70766    Z3493  encounter for supervision of normal pregnancy ...\n",
              "70833    Z3760                        multiple births unspecified\n",
              "\n",
              "[5096 rows x 2 columns]"
            ],
            "text/html": [
              "\n",
              "  <div id=\"df-fc5d45b7-1657-4434-824b-b4047c99e3fb\">\n",
              "    <div class=\"colab-df-container\">\n",
              "      <div>\n",
              "<style scoped>\n",
              "    .dataframe tbody tr th:only-of-type {\n",
              "        vertical-align: middle;\n",
              "    }\n",
              "\n",
              "    .dataframe tbody tr th {\n",
              "        vertical-align: top;\n",
              "    }\n",
              "\n",
              "    .dataframe thead th {\n",
              "        text-align: right;\n",
              "    }\n",
              "</style>\n",
              "<table border=\"1\" class=\"dataframe\">\n",
              "  <thead>\n",
              "    <tr style=\"text-align: right;\">\n",
              "      <th></th>\n",
              "      <th>code</th>\n",
              "      <th>description</th>\n",
              "    </tr>\n",
              "  </thead>\n",
              "  <tbody>\n",
              "    <tr>\n",
              "      <th>918</th>\n",
              "      <td>B6790</td>\n",
              "      <td>echinococcosis unspecified</td>\n",
              "    </tr>\n",
              "    <tr>\n",
              "      <th>1066</th>\n",
              "      <td>C009</td>\n",
              "      <td>malignant neoplasm of lip unspecified</td>\n",
              "    </tr>\n",
              "    <tr>\n",
              "      <th>1790</th>\n",
              "      <td>C8191</td>\n",
              "      <td>hodgkin lymphoma unspecified</td>\n",
              "    </tr>\n",
              "    <tr>\n",
              "      <th>1791</th>\n",
              "      <td>C8192</td>\n",
              "      <td>hodgkin lymphoma unspecified</td>\n",
              "    </tr>\n",
              "    <tr>\n",
              "      <th>1792</th>\n",
              "      <td>C8193</td>\n",
              "      <td>hodgkin lymphoma unspecified</td>\n",
              "    </tr>\n",
              "    <tr>\n",
              "      <th>...</th>\n",
              "      <td>...</td>\n",
              "      <td>...</td>\n",
              "    </tr>\n",
              "    <tr>\n",
              "      <th>69917</th>\n",
              "      <td>Y3790XS</td>\n",
              "      <td>military operations unspecified</td>\n",
              "    </tr>\n",
              "    <tr>\n",
              "      <th>70764</th>\n",
              "      <td>Z3491</td>\n",
              "      <td>encounter for supervision of normal pregnancy ...</td>\n",
              "    </tr>\n",
              "    <tr>\n",
              "      <th>70765</th>\n",
              "      <td>Z3492</td>\n",
              "      <td>encounter for supervision of normal pregnancy ...</td>\n",
              "    </tr>\n",
              "    <tr>\n",
              "      <th>70766</th>\n",
              "      <td>Z3493</td>\n",
              "      <td>encounter for supervision of normal pregnancy ...</td>\n",
              "    </tr>\n",
              "    <tr>\n",
              "      <th>70833</th>\n",
              "      <td>Z3760</td>\n",
              "      <td>multiple births unspecified</td>\n",
              "    </tr>\n",
              "  </tbody>\n",
              "</table>\n",
              "<p>5096 rows × 2 columns</p>\n",
              "</div>\n",
              "      <button class=\"colab-df-convert\" onclick=\"convertToInteractive('df-fc5d45b7-1657-4434-824b-b4047c99e3fb')\"\n",
              "              title=\"Convert this dataframe to an interactive table.\"\n",
              "              style=\"display:none;\">\n",
              "        \n",
              "  <svg xmlns=\"http://www.w3.org/2000/svg\" height=\"24px\"viewBox=\"0 0 24 24\"\n",
              "       width=\"24px\">\n",
              "    <path d=\"M0 0h24v24H0V0z\" fill=\"none\"/>\n",
              "    <path d=\"M18.56 5.44l.94 2.06.94-2.06 2.06-.94-2.06-.94-.94-2.06-.94 2.06-2.06.94zm-11 1L8.5 8.5l.94-2.06 2.06-.94-2.06-.94L8.5 2.5l-.94 2.06-2.06.94zm10 10l.94 2.06.94-2.06 2.06-.94-2.06-.94-.94-2.06-.94 2.06-2.06.94z\"/><path d=\"M17.41 7.96l-1.37-1.37c-.4-.4-.92-.59-1.43-.59-.52 0-1.04.2-1.43.59L10.3 9.45l-7.72 7.72c-.78.78-.78 2.05 0 2.83L4 21.41c.39.39.9.59 1.41.59.51 0 1.02-.2 1.41-.59l7.78-7.78 2.81-2.81c.8-.78.8-2.07 0-2.86zM5.41 20L4 18.59l7.72-7.72 1.47 1.35L5.41 20z\"/>\n",
              "  </svg>\n",
              "      </button>\n",
              "      \n",
              "  <style>\n",
              "    .colab-df-container {\n",
              "      display:flex;\n",
              "      flex-wrap:wrap;\n",
              "      gap: 12px;\n",
              "    }\n",
              "\n",
              "    .colab-df-convert {\n",
              "      background-color: #E8F0FE;\n",
              "      border: none;\n",
              "      border-radius: 50%;\n",
              "      cursor: pointer;\n",
              "      display: none;\n",
              "      fill: #1967D2;\n",
              "      height: 32px;\n",
              "      padding: 0 0 0 0;\n",
              "      width: 32px;\n",
              "    }\n",
              "\n",
              "    .colab-df-convert:hover {\n",
              "      background-color: #E2EBFA;\n",
              "      box-shadow: 0px 1px 2px rgba(60, 64, 67, 0.3), 0px 1px 3px 1px rgba(60, 64, 67, 0.15);\n",
              "      fill: #174EA6;\n",
              "    }\n",
              "\n",
              "    [theme=dark] .colab-df-convert {\n",
              "      background-color: #3B4455;\n",
              "      fill: #D2E3FC;\n",
              "    }\n",
              "\n",
              "    [theme=dark] .colab-df-convert:hover {\n",
              "      background-color: #434B5C;\n",
              "      box-shadow: 0px 1px 3px 1px rgba(0, 0, 0, 0.15);\n",
              "      filter: drop-shadow(0px 1px 2px rgba(0, 0, 0, 0.3));\n",
              "      fill: #FFFFFF;\n",
              "    }\n",
              "  </style>\n",
              "\n",
              "      <script>\n",
              "        const buttonEl =\n",
              "          document.querySelector('#df-fc5d45b7-1657-4434-824b-b4047c99e3fb button.colab-df-convert');\n",
              "        buttonEl.style.display =\n",
              "          google.colab.kernel.accessAllowed ? 'block' : 'none';\n",
              "\n",
              "        async function convertToInteractive(key) {\n",
              "          const element = document.querySelector('#df-fc5d45b7-1657-4434-824b-b4047c99e3fb');\n",
              "          const dataTable =\n",
              "            await google.colab.kernel.invokeFunction('convertToInteractive',\n",
              "                                                     [key], {});\n",
              "          if (!dataTable) return;\n",
              "\n",
              "          const docLinkHtml = 'Like what you see? Visit the ' +\n",
              "            '<a target=\"_blank\" href=https://colab.research.google.com/notebooks/data_table.ipynb>data table notebook</a>'\n",
              "            + ' to learn more about interactive tables.';\n",
              "          element.innerHTML = '';\n",
              "          dataTable['output_type'] = 'display_data';\n",
              "          await google.colab.output.renderOutput(dataTable, element);\n",
              "          const docLink = document.createElement('div');\n",
              "          docLink.innerHTML = docLinkHtml;\n",
              "          element.appendChild(docLink);\n",
              "        }\n",
              "      </script>\n",
              "    </div>\n",
              "  </div>\n",
              "  "
            ]
          },
          "metadata": {},
          "execution_count": 21
        }
      ]
    },
    {
      "cell_type": "markdown",
      "source": [
        "### Reformatting ICD descriptions and Dropping Duplicates\n",
        "First, I will examine other occurances of the singular 'complication' in the ICD codes and change them to plural. Then, I will re-merge to see if there is any significant difference."
      ],
      "metadata": {
        "id": "74Bi3ZFov0sq"
      }
    },
    {
      "cell_type": "code",
      "source": [
        "[desc for desc in icd_codes[icd_codes.description.str.contains(\"with other specified complication\")].description]"
      ],
      "metadata": {
        "colab": {
          "base_uri": "https://localhost:8080/"
        },
        "id": "HPqwbEQ_zUCz",
        "outputId": "587270ac-16fe-4007-b3b0-1e1b94e9d134"
      },
      "execution_count": 22,
      "outputs": [
        {
          "output_type": "execute_result",
          "data": {
            "text/plain": [
              "['diabetes mellitus due to underlying condition with other specified complication',\n",
              " 'drug or chemical induced diabetes mellitus with other specified complication',\n",
              " 'type 1 diabetes mellitus with other specified complication',\n",
              " 'type 2 diabetes mellitus with other specified complication',\n",
              " 'other specified diabetes mellitus with other specified complication']"
            ]
          },
          "metadata": {},
          "execution_count": 22
        }
      ]
    },
    {
      "cell_type": "code",
      "source": [
        "icd_codes.description = [desc.replace(\"with other specified complication\",\"with other specified complications\") for desc in icd_codes.description]"
      ],
      "metadata": {
        "id": "X-fdb4YKzUAX"
      },
      "execution_count": 23,
      "outputs": []
    },
    {
      "cell_type": "code",
      "source": [
        "# Merging inpatient_admissions and the formatted ICD codes/descriptions\n",
        "merged_df2 = pd.merge(inpt_adm, icd_codes, left_on = 'first_dx', right_on = \"description\", how = 'left')\n",
        "print(merged_df2.shape)\n",
        "merged_df2.head(5)"
      ],
      "metadata": {
        "colab": {
          "base_uri": "https://localhost:8080/",
          "height": 619
        },
        "outputId": "cd0595dd-a03c-4beb-a464-bac97af61f98",
        "id": "bzeuuaxV3GtG"
      },
      "execution_count": 24,
      "outputs": [
        {
          "output_type": "stream",
          "name": "stdout",
          "text": [
            "(4306, 20)\n"
          ]
        },
        {
          "output_type": "execute_result",
          "data": {
            "text/plain": [
              "   Unnamed: 0    X  Internalpatientid  Age.at.admission  \\\n",
              "0           1    4             100012         55.317020   \n",
              "1           2   82             100399         85.706740   \n",
              "2           3  154             100694         83.926120   \n",
              "3           4  155             100694         88.611203   \n",
              "4           5  322             101407         88.925931   \n",
              "\n",
              "          Admission.date         Discharge.date Admitting.unit.service  \\\n",
              "0  2004-10-25 08:54:01.0  2004-10-26 08:05:06.0                SURGERY   \n",
              "1  2010-03-24 19:31:38.0  2012-11-10 19:50:48.0                   NHCU   \n",
              "2  2016-01-12 23:55:24.0  2016-01-13 20:55:24.0              NON-COUNT   \n",
              "3  2020-09-20 09:28:13.0  2020-09-22 11:36:18.0              NON-COUNT   \n",
              "4  2009-05-03 10:15:50.0  2009-05-04 13:05:08.0               MEDICINE   \n",
              "\n",
              "  Discharging.unit.service             Admitting.specialty  \\\n",
              "0                  SURGERY                    NEUROSURGERY   \n",
              "1                     NHCU                     DOMICILIARY   \n",
              "2                NON-COUNT              SPINAL CORD INJURY   \n",
              "3                NON-COUNT              SPINAL CORD INJURY   \n",
              "4                 MEDICINE  SPINAL CORD INJURY OBSERVATION   \n",
              "\n",
              "     Discharging.specialty                                           first_dx  \\\n",
              "0          GENERAL SURGERY  other and unspecified noninfective gastroenter...   \n",
              "1               NH HOSPICE  unspecified mental disorder due to known physi...   \n",
              "2      MEDICAL OBSERVATION             abnormal levels of other serum enzymes   \n",
              "3      MEDICAL OBSERVATION             viral intestinal infection unspecified   \n",
              "4  GENERAL(ACUTE MEDICINE)                               unspecified dementia   \n",
              "\n",
              "                                           second_dx  Discharge.disposition  \\\n",
              "0     other specified disorders of white blood cells                Regular   \n",
              "1          malignant neoplasm of stomach unspecified  Death without autopsy   \n",
              "2                other acute ischemic heart diseases                Regular   \n",
              "3                   hypo-osmolality and hyponatremia                Regular   \n",
              "4  hypertensive chronic kidney disease with stage...                Regular   \n",
              "\n",
              "   Died.during.admission Outpatientreferralflag Serviceconnectedflag  \\\n",
              "0                    NaN                    Yes                  NaN   \n",
              "1                    NaN                    NaN                   No   \n",
              "2                    NaN                    Yes                  NaN   \n",
              "3                    NaN                    Yes                  NaN   \n",
              "4                    NaN                    Yes                  NaN   \n",
              "\n",
              "  Agentorangeflag       State  code  \\\n",
              "0             NaN  New Mexico   NaN   \n",
              "1              No   Minnesota   F09   \n",
              "2              No       Idaho  R748   \n",
              "3              No       Idaho  A084   \n",
              "4              No   Louisiana   NaN   \n",
              "\n",
              "                                         description  \n",
              "0                                                NaN  \n",
              "1  unspecified mental disorder due to known physi...  \n",
              "2             abnormal levels of other serum enzymes  \n",
              "3             viral intestinal infection unspecified  \n",
              "4                                                NaN  "
            ],
            "text/html": [
              "\n",
              "  <div id=\"df-99f7c5ec-02dd-4b46-a61c-41fd2a22d8c0\">\n",
              "    <div class=\"colab-df-container\">\n",
              "      <div>\n",
              "<style scoped>\n",
              "    .dataframe tbody tr th:only-of-type {\n",
              "        vertical-align: middle;\n",
              "    }\n",
              "\n",
              "    .dataframe tbody tr th {\n",
              "        vertical-align: top;\n",
              "    }\n",
              "\n",
              "    .dataframe thead th {\n",
              "        text-align: right;\n",
              "    }\n",
              "</style>\n",
              "<table border=\"1\" class=\"dataframe\">\n",
              "  <thead>\n",
              "    <tr style=\"text-align: right;\">\n",
              "      <th></th>\n",
              "      <th>Unnamed: 0</th>\n",
              "      <th>X</th>\n",
              "      <th>Internalpatientid</th>\n",
              "      <th>Age.at.admission</th>\n",
              "      <th>Admission.date</th>\n",
              "      <th>Discharge.date</th>\n",
              "      <th>Admitting.unit.service</th>\n",
              "      <th>Discharging.unit.service</th>\n",
              "      <th>Admitting.specialty</th>\n",
              "      <th>Discharging.specialty</th>\n",
              "      <th>first_dx</th>\n",
              "      <th>second_dx</th>\n",
              "      <th>Discharge.disposition</th>\n",
              "      <th>Died.during.admission</th>\n",
              "      <th>Outpatientreferralflag</th>\n",
              "      <th>Serviceconnectedflag</th>\n",
              "      <th>Agentorangeflag</th>\n",
              "      <th>State</th>\n",
              "      <th>code</th>\n",
              "      <th>description</th>\n",
              "    </tr>\n",
              "  </thead>\n",
              "  <tbody>\n",
              "    <tr>\n",
              "      <th>0</th>\n",
              "      <td>1</td>\n",
              "      <td>4</td>\n",
              "      <td>100012</td>\n",
              "      <td>55.317020</td>\n",
              "      <td>2004-10-25 08:54:01.0</td>\n",
              "      <td>2004-10-26 08:05:06.0</td>\n",
              "      <td>SURGERY</td>\n",
              "      <td>SURGERY</td>\n",
              "      <td>NEUROSURGERY</td>\n",
              "      <td>GENERAL SURGERY</td>\n",
              "      <td>other and unspecified noninfective gastroenter...</td>\n",
              "      <td>other specified disorders of white blood cells</td>\n",
              "      <td>Regular</td>\n",
              "      <td>NaN</td>\n",
              "      <td>Yes</td>\n",
              "      <td>NaN</td>\n",
              "      <td>NaN</td>\n",
              "      <td>New Mexico</td>\n",
              "      <td>NaN</td>\n",
              "      <td>NaN</td>\n",
              "    </tr>\n",
              "    <tr>\n",
              "      <th>1</th>\n",
              "      <td>2</td>\n",
              "      <td>82</td>\n",
              "      <td>100399</td>\n",
              "      <td>85.706740</td>\n",
              "      <td>2010-03-24 19:31:38.0</td>\n",
              "      <td>2012-11-10 19:50:48.0</td>\n",
              "      <td>NHCU</td>\n",
              "      <td>NHCU</td>\n",
              "      <td>DOMICILIARY</td>\n",
              "      <td>NH HOSPICE</td>\n",
              "      <td>unspecified mental disorder due to known physi...</td>\n",
              "      <td>malignant neoplasm of stomach unspecified</td>\n",
              "      <td>Death without autopsy</td>\n",
              "      <td>NaN</td>\n",
              "      <td>NaN</td>\n",
              "      <td>No</td>\n",
              "      <td>No</td>\n",
              "      <td>Minnesota</td>\n",
              "      <td>F09</td>\n",
              "      <td>unspecified mental disorder due to known physi...</td>\n",
              "    </tr>\n",
              "    <tr>\n",
              "      <th>2</th>\n",
              "      <td>3</td>\n",
              "      <td>154</td>\n",
              "      <td>100694</td>\n",
              "      <td>83.926120</td>\n",
              "      <td>2016-01-12 23:55:24.0</td>\n",
              "      <td>2016-01-13 20:55:24.0</td>\n",
              "      <td>NON-COUNT</td>\n",
              "      <td>NON-COUNT</td>\n",
              "      <td>SPINAL CORD INJURY</td>\n",
              "      <td>MEDICAL OBSERVATION</td>\n",
              "      <td>abnormal levels of other serum enzymes</td>\n",
              "      <td>other acute ischemic heart diseases</td>\n",
              "      <td>Regular</td>\n",
              "      <td>NaN</td>\n",
              "      <td>Yes</td>\n",
              "      <td>NaN</td>\n",
              "      <td>No</td>\n",
              "      <td>Idaho</td>\n",
              "      <td>R748</td>\n",
              "      <td>abnormal levels of other serum enzymes</td>\n",
              "    </tr>\n",
              "    <tr>\n",
              "      <th>3</th>\n",
              "      <td>4</td>\n",
              "      <td>155</td>\n",
              "      <td>100694</td>\n",
              "      <td>88.611203</td>\n",
              "      <td>2020-09-20 09:28:13.0</td>\n",
              "      <td>2020-09-22 11:36:18.0</td>\n",
              "      <td>NON-COUNT</td>\n",
              "      <td>NON-COUNT</td>\n",
              "      <td>SPINAL CORD INJURY</td>\n",
              "      <td>MEDICAL OBSERVATION</td>\n",
              "      <td>viral intestinal infection unspecified</td>\n",
              "      <td>hypo-osmolality and hyponatremia</td>\n",
              "      <td>Regular</td>\n",
              "      <td>NaN</td>\n",
              "      <td>Yes</td>\n",
              "      <td>NaN</td>\n",
              "      <td>No</td>\n",
              "      <td>Idaho</td>\n",
              "      <td>A084</td>\n",
              "      <td>viral intestinal infection unspecified</td>\n",
              "    </tr>\n",
              "    <tr>\n",
              "      <th>4</th>\n",
              "      <td>5</td>\n",
              "      <td>322</td>\n",
              "      <td>101407</td>\n",
              "      <td>88.925931</td>\n",
              "      <td>2009-05-03 10:15:50.0</td>\n",
              "      <td>2009-05-04 13:05:08.0</td>\n",
              "      <td>MEDICINE</td>\n",
              "      <td>MEDICINE</td>\n",
              "      <td>SPINAL CORD INJURY OBSERVATION</td>\n",
              "      <td>GENERAL(ACUTE MEDICINE)</td>\n",
              "      <td>unspecified dementia</td>\n",
              "      <td>hypertensive chronic kidney disease with stage...</td>\n",
              "      <td>Regular</td>\n",
              "      <td>NaN</td>\n",
              "      <td>Yes</td>\n",
              "      <td>NaN</td>\n",
              "      <td>No</td>\n",
              "      <td>Louisiana</td>\n",
              "      <td>NaN</td>\n",
              "      <td>NaN</td>\n",
              "    </tr>\n",
              "  </tbody>\n",
              "</table>\n",
              "</div>\n",
              "      <button class=\"colab-df-convert\" onclick=\"convertToInteractive('df-99f7c5ec-02dd-4b46-a61c-41fd2a22d8c0')\"\n",
              "              title=\"Convert this dataframe to an interactive table.\"\n",
              "              style=\"display:none;\">\n",
              "        \n",
              "  <svg xmlns=\"http://www.w3.org/2000/svg\" height=\"24px\"viewBox=\"0 0 24 24\"\n",
              "       width=\"24px\">\n",
              "    <path d=\"M0 0h24v24H0V0z\" fill=\"none\"/>\n",
              "    <path d=\"M18.56 5.44l.94 2.06.94-2.06 2.06-.94-2.06-.94-.94-2.06-.94 2.06-2.06.94zm-11 1L8.5 8.5l.94-2.06 2.06-.94-2.06-.94L8.5 2.5l-.94 2.06-2.06.94zm10 10l.94 2.06.94-2.06 2.06-.94-2.06-.94-.94-2.06-.94 2.06-2.06.94z\"/><path d=\"M17.41 7.96l-1.37-1.37c-.4-.4-.92-.59-1.43-.59-.52 0-1.04.2-1.43.59L10.3 9.45l-7.72 7.72c-.78.78-.78 2.05 0 2.83L4 21.41c.39.39.9.59 1.41.59.51 0 1.02-.2 1.41-.59l7.78-7.78 2.81-2.81c.8-.78.8-2.07 0-2.86zM5.41 20L4 18.59l7.72-7.72 1.47 1.35L5.41 20z\"/>\n",
              "  </svg>\n",
              "      </button>\n",
              "      \n",
              "  <style>\n",
              "    .colab-df-container {\n",
              "      display:flex;\n",
              "      flex-wrap:wrap;\n",
              "      gap: 12px;\n",
              "    }\n",
              "\n",
              "    .colab-df-convert {\n",
              "      background-color: #E8F0FE;\n",
              "      border: none;\n",
              "      border-radius: 50%;\n",
              "      cursor: pointer;\n",
              "      display: none;\n",
              "      fill: #1967D2;\n",
              "      height: 32px;\n",
              "      padding: 0 0 0 0;\n",
              "      width: 32px;\n",
              "    }\n",
              "\n",
              "    .colab-df-convert:hover {\n",
              "      background-color: #E2EBFA;\n",
              "      box-shadow: 0px 1px 2px rgba(60, 64, 67, 0.3), 0px 1px 3px 1px rgba(60, 64, 67, 0.15);\n",
              "      fill: #174EA6;\n",
              "    }\n",
              "\n",
              "    [theme=dark] .colab-df-convert {\n",
              "      background-color: #3B4455;\n",
              "      fill: #D2E3FC;\n",
              "    }\n",
              "\n",
              "    [theme=dark] .colab-df-convert:hover {\n",
              "      background-color: #434B5C;\n",
              "      box-shadow: 0px 1px 3px 1px rgba(0, 0, 0, 0.15);\n",
              "      filter: drop-shadow(0px 1px 2px rgba(0, 0, 0, 0.3));\n",
              "      fill: #FFFFFF;\n",
              "    }\n",
              "  </style>\n",
              "\n",
              "      <script>\n",
              "        const buttonEl =\n",
              "          document.querySelector('#df-99f7c5ec-02dd-4b46-a61c-41fd2a22d8c0 button.colab-df-convert');\n",
              "        buttonEl.style.display =\n",
              "          google.colab.kernel.accessAllowed ? 'block' : 'none';\n",
              "\n",
              "        async function convertToInteractive(key) {\n",
              "          const element = document.querySelector('#df-99f7c5ec-02dd-4b46-a61c-41fd2a22d8c0');\n",
              "          const dataTable =\n",
              "            await google.colab.kernel.invokeFunction('convertToInteractive',\n",
              "                                                     [key], {});\n",
              "          if (!dataTable) return;\n",
              "\n",
              "          const docLinkHtml = 'Like what you see? Visit the ' +\n",
              "            '<a target=\"_blank\" href=https://colab.research.google.com/notebooks/data_table.ipynb>data table notebook</a>'\n",
              "            + ' to learn more about interactive tables.';\n",
              "          element.innerHTML = '';\n",
              "          dataTable['output_type'] = 'display_data';\n",
              "          await google.colab.output.renderOutput(dataTable, element);\n",
              "          const docLink = document.createElement('div');\n",
              "          docLink.innerHTML = docLinkHtml;\n",
              "          element.appendChild(docLink);\n",
              "        }\n",
              "      </script>\n",
              "    </div>\n",
              "  </div>\n",
              "  "
            ]
          },
          "metadata": {},
          "execution_count": 24
        }
      ]
    },
    {
      "cell_type": "code",
      "source": [
        "merged_df2[['first_dx','second_dx','code','description']].isnull().sum()"
      ],
      "metadata": {
        "colab": {
          "base_uri": "https://localhost:8080/"
        },
        "id": "qFibbraKzTN_",
        "outputId": "8b49c26c-7d2f-4b7d-bcfb-9dd63ed81ee1"
      },
      "execution_count": 25,
      "outputs": [
        {
          "output_type": "execute_result",
          "data": {
            "text/plain": [
              "first_dx          0\n",
              "second_dx         0\n",
              "code           1782\n",
              "description    1782\n",
              "dtype: int64"
            ]
          },
          "metadata": {},
          "execution_count": 25
        }
      ]
    },
    {
      "cell_type": "markdown",
      "source": [
        "#### Dropping Duplicates\n",
        "\n",
        "There is not a significant difference in the amount of unmatched diagnoses so far. I will drop duplicates of descriptions from the ICD codes, keeping the first occurance of each duplicate, and re-merge."
      ],
      "metadata": {
        "id": "eutHPRPy4KxW"
      }
    },
    {
      "cell_type": "code",
      "source": [
        "# Comparing the sizes of icd_codes before and after dropping duplicates\n",
        "icd_codes.shape, icd_codes.drop_duplicates(\"description\", keep = 'first').shape"
      ],
      "metadata": {
        "colab": {
          "base_uri": "https://localhost:8080/"
        },
        "id": "g-dQW7batI6y",
        "outputId": "0c959689-4fb3-434b-b917-8ef35419cb44"
      },
      "execution_count": 26,
      "outputs": [
        {
          "output_type": "execute_result",
          "data": {
            "text/plain": [
              "((71704, 2), (56553, 2))"
            ]
          },
          "metadata": {},
          "execution_count": 26
        }
      ]
    },
    {
      "cell_type": "code",
      "source": [
        "# Dropping duplicates and merging\n",
        "icd_codes = icd_codes.drop_duplicates(\"description\", keep = \"first\")\n",
        "merged_dropped_df = pd.merge(inpt_adm, icd_codes, left_on = 'first_dx', right_on = \"description\", how = 'left')\n",
        "merged_dropped_df.head(5)"
      ],
      "metadata": {
        "colab": {
          "base_uri": "https://localhost:8080/",
          "height": 600
        },
        "id": "gerZMMNnuT-w",
        "outputId": "76b57240-301b-45b8-acd2-8f8f2c81c0e5"
      },
      "execution_count": 27,
      "outputs": [
        {
          "output_type": "execute_result",
          "data": {
            "text/plain": [
              "   Unnamed: 0    X  Internalpatientid  Age.at.admission  \\\n",
              "0           1    4             100012         55.317020   \n",
              "1           2   82             100399         85.706740   \n",
              "2           3  154             100694         83.926120   \n",
              "3           4  155             100694         88.611203   \n",
              "4           5  322             101407         88.925931   \n",
              "\n",
              "          Admission.date         Discharge.date Admitting.unit.service  \\\n",
              "0  2004-10-25 08:54:01.0  2004-10-26 08:05:06.0                SURGERY   \n",
              "1  2010-03-24 19:31:38.0  2012-11-10 19:50:48.0                   NHCU   \n",
              "2  2016-01-12 23:55:24.0  2016-01-13 20:55:24.0              NON-COUNT   \n",
              "3  2020-09-20 09:28:13.0  2020-09-22 11:36:18.0              NON-COUNT   \n",
              "4  2009-05-03 10:15:50.0  2009-05-04 13:05:08.0               MEDICINE   \n",
              "\n",
              "  Discharging.unit.service             Admitting.specialty  \\\n",
              "0                  SURGERY                    NEUROSURGERY   \n",
              "1                     NHCU                     DOMICILIARY   \n",
              "2                NON-COUNT              SPINAL CORD INJURY   \n",
              "3                NON-COUNT              SPINAL CORD INJURY   \n",
              "4                 MEDICINE  SPINAL CORD INJURY OBSERVATION   \n",
              "\n",
              "     Discharging.specialty                                           first_dx  \\\n",
              "0          GENERAL SURGERY  other and unspecified noninfective gastroenter...   \n",
              "1               NH HOSPICE  unspecified mental disorder due to known physi...   \n",
              "2      MEDICAL OBSERVATION             abnormal levels of other serum enzymes   \n",
              "3      MEDICAL OBSERVATION             viral intestinal infection unspecified   \n",
              "4  GENERAL(ACUTE MEDICINE)                               unspecified dementia   \n",
              "\n",
              "                                           second_dx  Discharge.disposition  \\\n",
              "0     other specified disorders of white blood cells                Regular   \n",
              "1          malignant neoplasm of stomach unspecified  Death without autopsy   \n",
              "2                other acute ischemic heart diseases                Regular   \n",
              "3                   hypo-osmolality and hyponatremia                Regular   \n",
              "4  hypertensive chronic kidney disease with stage...                Regular   \n",
              "\n",
              "   Died.during.admission Outpatientreferralflag Serviceconnectedflag  \\\n",
              "0                    NaN                    Yes                  NaN   \n",
              "1                    NaN                    NaN                   No   \n",
              "2                    NaN                    Yes                  NaN   \n",
              "3                    NaN                    Yes                  NaN   \n",
              "4                    NaN                    Yes                  NaN   \n",
              "\n",
              "  Agentorangeflag       State  code  \\\n",
              "0             NaN  New Mexico   NaN   \n",
              "1              No   Minnesota   F09   \n",
              "2              No       Idaho  R748   \n",
              "3              No       Idaho  A084   \n",
              "4              No   Louisiana   NaN   \n",
              "\n",
              "                                         description  \n",
              "0                                                NaN  \n",
              "1  unspecified mental disorder due to known physi...  \n",
              "2             abnormal levels of other serum enzymes  \n",
              "3             viral intestinal infection unspecified  \n",
              "4                                                NaN  "
            ],
            "text/html": [
              "\n",
              "  <div id=\"df-5f37cd81-d4a5-4e0f-8df8-73e2d834c765\">\n",
              "    <div class=\"colab-df-container\">\n",
              "      <div>\n",
              "<style scoped>\n",
              "    .dataframe tbody tr th:only-of-type {\n",
              "        vertical-align: middle;\n",
              "    }\n",
              "\n",
              "    .dataframe tbody tr th {\n",
              "        vertical-align: top;\n",
              "    }\n",
              "\n",
              "    .dataframe thead th {\n",
              "        text-align: right;\n",
              "    }\n",
              "</style>\n",
              "<table border=\"1\" class=\"dataframe\">\n",
              "  <thead>\n",
              "    <tr style=\"text-align: right;\">\n",
              "      <th></th>\n",
              "      <th>Unnamed: 0</th>\n",
              "      <th>X</th>\n",
              "      <th>Internalpatientid</th>\n",
              "      <th>Age.at.admission</th>\n",
              "      <th>Admission.date</th>\n",
              "      <th>Discharge.date</th>\n",
              "      <th>Admitting.unit.service</th>\n",
              "      <th>Discharging.unit.service</th>\n",
              "      <th>Admitting.specialty</th>\n",
              "      <th>Discharging.specialty</th>\n",
              "      <th>first_dx</th>\n",
              "      <th>second_dx</th>\n",
              "      <th>Discharge.disposition</th>\n",
              "      <th>Died.during.admission</th>\n",
              "      <th>Outpatientreferralflag</th>\n",
              "      <th>Serviceconnectedflag</th>\n",
              "      <th>Agentorangeflag</th>\n",
              "      <th>State</th>\n",
              "      <th>code</th>\n",
              "      <th>description</th>\n",
              "    </tr>\n",
              "  </thead>\n",
              "  <tbody>\n",
              "    <tr>\n",
              "      <th>0</th>\n",
              "      <td>1</td>\n",
              "      <td>4</td>\n",
              "      <td>100012</td>\n",
              "      <td>55.317020</td>\n",
              "      <td>2004-10-25 08:54:01.0</td>\n",
              "      <td>2004-10-26 08:05:06.0</td>\n",
              "      <td>SURGERY</td>\n",
              "      <td>SURGERY</td>\n",
              "      <td>NEUROSURGERY</td>\n",
              "      <td>GENERAL SURGERY</td>\n",
              "      <td>other and unspecified noninfective gastroenter...</td>\n",
              "      <td>other specified disorders of white blood cells</td>\n",
              "      <td>Regular</td>\n",
              "      <td>NaN</td>\n",
              "      <td>Yes</td>\n",
              "      <td>NaN</td>\n",
              "      <td>NaN</td>\n",
              "      <td>New Mexico</td>\n",
              "      <td>NaN</td>\n",
              "      <td>NaN</td>\n",
              "    </tr>\n",
              "    <tr>\n",
              "      <th>1</th>\n",
              "      <td>2</td>\n",
              "      <td>82</td>\n",
              "      <td>100399</td>\n",
              "      <td>85.706740</td>\n",
              "      <td>2010-03-24 19:31:38.0</td>\n",
              "      <td>2012-11-10 19:50:48.0</td>\n",
              "      <td>NHCU</td>\n",
              "      <td>NHCU</td>\n",
              "      <td>DOMICILIARY</td>\n",
              "      <td>NH HOSPICE</td>\n",
              "      <td>unspecified mental disorder due to known physi...</td>\n",
              "      <td>malignant neoplasm of stomach unspecified</td>\n",
              "      <td>Death without autopsy</td>\n",
              "      <td>NaN</td>\n",
              "      <td>NaN</td>\n",
              "      <td>No</td>\n",
              "      <td>No</td>\n",
              "      <td>Minnesota</td>\n",
              "      <td>F09</td>\n",
              "      <td>unspecified mental disorder due to known physi...</td>\n",
              "    </tr>\n",
              "    <tr>\n",
              "      <th>2</th>\n",
              "      <td>3</td>\n",
              "      <td>154</td>\n",
              "      <td>100694</td>\n",
              "      <td>83.926120</td>\n",
              "      <td>2016-01-12 23:55:24.0</td>\n",
              "      <td>2016-01-13 20:55:24.0</td>\n",
              "      <td>NON-COUNT</td>\n",
              "      <td>NON-COUNT</td>\n",
              "      <td>SPINAL CORD INJURY</td>\n",
              "      <td>MEDICAL OBSERVATION</td>\n",
              "      <td>abnormal levels of other serum enzymes</td>\n",
              "      <td>other acute ischemic heart diseases</td>\n",
              "      <td>Regular</td>\n",
              "      <td>NaN</td>\n",
              "      <td>Yes</td>\n",
              "      <td>NaN</td>\n",
              "      <td>No</td>\n",
              "      <td>Idaho</td>\n",
              "      <td>R748</td>\n",
              "      <td>abnormal levels of other serum enzymes</td>\n",
              "    </tr>\n",
              "    <tr>\n",
              "      <th>3</th>\n",
              "      <td>4</td>\n",
              "      <td>155</td>\n",
              "      <td>100694</td>\n",
              "      <td>88.611203</td>\n",
              "      <td>2020-09-20 09:28:13.0</td>\n",
              "      <td>2020-09-22 11:36:18.0</td>\n",
              "      <td>NON-COUNT</td>\n",
              "      <td>NON-COUNT</td>\n",
              "      <td>SPINAL CORD INJURY</td>\n",
              "      <td>MEDICAL OBSERVATION</td>\n",
              "      <td>viral intestinal infection unspecified</td>\n",
              "      <td>hypo-osmolality and hyponatremia</td>\n",
              "      <td>Regular</td>\n",
              "      <td>NaN</td>\n",
              "      <td>Yes</td>\n",
              "      <td>NaN</td>\n",
              "      <td>No</td>\n",
              "      <td>Idaho</td>\n",
              "      <td>A084</td>\n",
              "      <td>viral intestinal infection unspecified</td>\n",
              "    </tr>\n",
              "    <tr>\n",
              "      <th>4</th>\n",
              "      <td>5</td>\n",
              "      <td>322</td>\n",
              "      <td>101407</td>\n",
              "      <td>88.925931</td>\n",
              "      <td>2009-05-03 10:15:50.0</td>\n",
              "      <td>2009-05-04 13:05:08.0</td>\n",
              "      <td>MEDICINE</td>\n",
              "      <td>MEDICINE</td>\n",
              "      <td>SPINAL CORD INJURY OBSERVATION</td>\n",
              "      <td>GENERAL(ACUTE MEDICINE)</td>\n",
              "      <td>unspecified dementia</td>\n",
              "      <td>hypertensive chronic kidney disease with stage...</td>\n",
              "      <td>Regular</td>\n",
              "      <td>NaN</td>\n",
              "      <td>Yes</td>\n",
              "      <td>NaN</td>\n",
              "      <td>No</td>\n",
              "      <td>Louisiana</td>\n",
              "      <td>NaN</td>\n",
              "      <td>NaN</td>\n",
              "    </tr>\n",
              "  </tbody>\n",
              "</table>\n",
              "</div>\n",
              "      <button class=\"colab-df-convert\" onclick=\"convertToInteractive('df-5f37cd81-d4a5-4e0f-8df8-73e2d834c765')\"\n",
              "              title=\"Convert this dataframe to an interactive table.\"\n",
              "              style=\"display:none;\">\n",
              "        \n",
              "  <svg xmlns=\"http://www.w3.org/2000/svg\" height=\"24px\"viewBox=\"0 0 24 24\"\n",
              "       width=\"24px\">\n",
              "    <path d=\"M0 0h24v24H0V0z\" fill=\"none\"/>\n",
              "    <path d=\"M18.56 5.44l.94 2.06.94-2.06 2.06-.94-2.06-.94-.94-2.06-.94 2.06-2.06.94zm-11 1L8.5 8.5l.94-2.06 2.06-.94-2.06-.94L8.5 2.5l-.94 2.06-2.06.94zm10 10l.94 2.06.94-2.06 2.06-.94-2.06-.94-.94-2.06-.94 2.06-2.06.94z\"/><path d=\"M17.41 7.96l-1.37-1.37c-.4-.4-.92-.59-1.43-.59-.52 0-1.04.2-1.43.59L10.3 9.45l-7.72 7.72c-.78.78-.78 2.05 0 2.83L4 21.41c.39.39.9.59 1.41.59.51 0 1.02-.2 1.41-.59l7.78-7.78 2.81-2.81c.8-.78.8-2.07 0-2.86zM5.41 20L4 18.59l7.72-7.72 1.47 1.35L5.41 20z\"/>\n",
              "  </svg>\n",
              "      </button>\n",
              "      \n",
              "  <style>\n",
              "    .colab-df-container {\n",
              "      display:flex;\n",
              "      flex-wrap:wrap;\n",
              "      gap: 12px;\n",
              "    }\n",
              "\n",
              "    .colab-df-convert {\n",
              "      background-color: #E8F0FE;\n",
              "      border: none;\n",
              "      border-radius: 50%;\n",
              "      cursor: pointer;\n",
              "      display: none;\n",
              "      fill: #1967D2;\n",
              "      height: 32px;\n",
              "      padding: 0 0 0 0;\n",
              "      width: 32px;\n",
              "    }\n",
              "\n",
              "    .colab-df-convert:hover {\n",
              "      background-color: #E2EBFA;\n",
              "      box-shadow: 0px 1px 2px rgba(60, 64, 67, 0.3), 0px 1px 3px 1px rgba(60, 64, 67, 0.15);\n",
              "      fill: #174EA6;\n",
              "    }\n",
              "\n",
              "    [theme=dark] .colab-df-convert {\n",
              "      background-color: #3B4455;\n",
              "      fill: #D2E3FC;\n",
              "    }\n",
              "\n",
              "    [theme=dark] .colab-df-convert:hover {\n",
              "      background-color: #434B5C;\n",
              "      box-shadow: 0px 1px 3px 1px rgba(0, 0, 0, 0.15);\n",
              "      filter: drop-shadow(0px 1px 2px rgba(0, 0, 0, 0.3));\n",
              "      fill: #FFFFFF;\n",
              "    }\n",
              "  </style>\n",
              "\n",
              "      <script>\n",
              "        const buttonEl =\n",
              "          document.querySelector('#df-5f37cd81-d4a5-4e0f-8df8-73e2d834c765 button.colab-df-convert');\n",
              "        buttonEl.style.display =\n",
              "          google.colab.kernel.accessAllowed ? 'block' : 'none';\n",
              "\n",
              "        async function convertToInteractive(key) {\n",
              "          const element = document.querySelector('#df-5f37cd81-d4a5-4e0f-8df8-73e2d834c765');\n",
              "          const dataTable =\n",
              "            await google.colab.kernel.invokeFunction('convertToInteractive',\n",
              "                                                     [key], {});\n",
              "          if (!dataTable) return;\n",
              "\n",
              "          const docLinkHtml = 'Like what you see? Visit the ' +\n",
              "            '<a target=\"_blank\" href=https://colab.research.google.com/notebooks/data_table.ipynb>data table notebook</a>'\n",
              "            + ' to learn more about interactive tables.';\n",
              "          element.innerHTML = '';\n",
              "          dataTable['output_type'] = 'display_data';\n",
              "          await google.colab.output.renderOutput(dataTable, element);\n",
              "          const docLink = document.createElement('div');\n",
              "          docLink.innerHTML = docLinkHtml;\n",
              "          element.appendChild(docLink);\n",
              "        }\n",
              "      </script>\n",
              "    </div>\n",
              "  </div>\n",
              "  "
            ]
          },
          "metadata": {},
          "execution_count": 27
        }
      ]
    },
    {
      "cell_type": "code",
      "source": [
        "# Comparing the shape of the newly merged DF and the inpt_adm DF\n",
        "merged_dropped_df.shape, inpt_adm.shape"
      ],
      "metadata": {
        "colab": {
          "base_uri": "https://localhost:8080/"
        },
        "id": "5W23XBKWu4W6",
        "outputId": "2d344d68-0588-4065-e65d-1d3d699791b7"
      },
      "execution_count": 28,
      "outputs": [
        {
          "output_type": "execute_result",
          "data": {
            "text/plain": [
              "((4010, 20), (4010, 18))"
            ]
          },
          "metadata": {},
          "execution_count": 28
        }
      ]
    },
    {
      "cell_type": "code",
      "source": [
        "# Comparing Unique patients in each DF\n",
        "merged_dropped_df.Internalpatientid.nunique(), inpt_adm.Internalpatientid.nunique()"
      ],
      "metadata": {
        "colab": {
          "base_uri": "https://localhost:8080/"
        },
        "id": "ag33RUtdu6_U",
        "outputId": "3534230a-39cd-4cc5-eca7-13f004b3cdcc"
      },
      "execution_count": 29,
      "outputs": [
        {
          "output_type": "execute_result",
          "data": {
            "text/plain": [
              "(632, 632)"
            ]
          },
          "metadata": {},
          "execution_count": 29
        }
      ]
    },
    {
      "cell_type": "code",
      "source": [
        "# Examining nulls in newly merged DF\n",
        "merged_dropped_df[['first_dx','second_dx','code','description']].isnull().sum()"
      ],
      "metadata": {
        "colab": {
          "base_uri": "https://localhost:8080/"
        },
        "id": "D7u1J845yTeR",
        "outputId": "4b139f5f-4593-4fde-d3d7-1f300fa69c09"
      },
      "execution_count": 30,
      "outputs": [
        {
          "output_type": "execute_result",
          "data": {
            "text/plain": [
              "first_dx          0\n",
              "second_dx         0\n",
              "code           1782\n",
              "description    1782\n",
              "dtype: int64"
            ]
          },
          "metadata": {},
          "execution_count": 30
        }
      ]
    },
    {
      "cell_type": "code",
      "source": [
        "# Examining top 10 unmatched diagnoses in merged_dropped_df\n",
        "merged_dropped_df[merged_dropped_df.code.isnull()].first_dx.value_counts()[:10]"
      ],
      "metadata": {
        "colab": {
          "base_uri": "https://localhost:8080/"
        },
        "id": "-3L86L0F5xNc",
        "outputId": "5f99a904-73ca-4b2b-95a5-33b043a5535e"
      },
      "execution_count": 31,
      "outputs": [
        {
          "output_type": "execute_result",
          "data": {
            "text/plain": [
              "atherosclerotic heart disease of native coronary artery                                                        143\n",
              "alcohol dependence                                                                                             118\n",
              "unspecified atrial fibrillation and atrial flutter                                                              98\n",
              "systolic (congestive) heart failure                                                                             66\n",
              "cutaneous abscess furuncle and carbuncle of limb ; cellulitis and acute lymphangitis of other parts of limb     48\n",
              "diastolic (congestive) heart failure                                                                            42\n",
              "post-traumatic stress disorder (ptsd)                                                                           37\n",
              "cellulitis and acute lymphangitis of other parts of limb                                                        30\n",
              "acute pancreatitis                                                                                              29\n",
              "cocaine dependence                                                                                              29\n",
              "Name: first_dx, dtype: int64"
            ]
          },
          "metadata": {},
          "execution_count": 31
        }
      ]
    },
    {
      "cell_type": "markdown",
      "source": [
        "The issue of the difference in specificity between the ICD codes and the first_dx continues to exist. However, there are entries for second_dx that might be able to be used to clarify the first_dx.\n",
        "\n",
        "For example, there are patients with an unspecified first_dx of \"atherosclerotic heart disease of native coronary artery\", but who have second_dx of \"unstable angina\" etc."
      ],
      "metadata": {
        "id": "W5wa9oEq6I_w"
      }
    },
    {
      "cell_type": "code",
      "source": [
        "merged_dropped_df[merged_dropped_df.first_dx.str.contains(\"atherosclerotic heart\") & merged_dropped_df.second_dx.str.contains(\"angina\")].head()"
      ],
      "metadata": {
        "colab": {
          "base_uri": "https://localhost:8080/",
          "height": 548
        },
        "id": "ujb_MNnN6GYd",
        "outputId": "81bca9c2-d0c3-45d6-d499-16cabe8e600f"
      },
      "execution_count": 42,
      "outputs": [
        {
          "output_type": "execute_result",
          "data": {
            "text/plain": [
              "     Unnamed: 0      X  Internalpatientid  Age.at.admission  \\\n",
              "11           12   1215             105425         53.991401   \n",
              "152         153  26160             102468         60.406117   \n",
              "243         244  38653             107797         64.188778   \n",
              "309         310  45321             105907         65.997269   \n",
              "418         419  72306             115675         74.390507   \n",
              "\n",
              "            Admission.date         Discharge.date Admitting.unit.service  \\\n",
              "11   2004-05-14 20:34:18.0  2004-05-21 13:23:09.0                SURGERY   \n",
              "152  2011-12-31 10:27:27.0  2012-01-01 20:57:03.0               MEDICINE   \n",
              "243  2012-10-28 23:57:37.0  2012-10-30 00:03:39.0              NON-COUNT   \n",
              "309  2014-06-26 00:02:42.0  2014-07-01 02:10:18.0               MEDICINE   \n",
              "418  2000-06-26 17:31:35.0  2000-06-26 23:49:36.0               MEDICINE   \n",
              "\n",
              "    Discharging.unit.service             Admitting.specialty  \\\n",
              "11                   SURGERY                 GRECC-GEM-REHAB   \n",
              "152                 MEDICINE   SUBSTANCE ABUSE INTERMED CARE   \n",
              "243                NON-COUNT           NEUROLOGY OBSERVATION   \n",
              "309                 MEDICINE             PERIPHERAL VASCULAR   \n",
              "418                 MEDICINE  HIGH INTENSITY GEN PSYCH INPAT   \n",
              "\n",
              "        Discharging.specialty  \\\n",
              "11           THORACIC SURGERY   \n",
              "152               MEDICAL ICU   \n",
              "243       MEDICAL OBSERVATION   \n",
              "309  Not specified (no value)   \n",
              "418               MEDICAL ICU   \n",
              "\n",
              "                                              first_dx  \\\n",
              "11   atherosclerotic heart disease of native corona...   \n",
              "152  atherosclerotic heart disease of native corona...   \n",
              "243  atherosclerotic heart disease of native corona...   \n",
              "309  atherosclerotic heart disease of native corona...   \n",
              "418  atherosclerotic heart disease of native corona...   \n",
              "\n",
              "                          second_dx Discharge.disposition  \\\n",
              "11                  unstable angina               Regular   \n",
              "152                 unstable angina               Regular   \n",
              "243  other forms of angina pectoris               Regular   \n",
              "309                 unstable angina               Regular   \n",
              "418                 unstable angina              Transfer   \n",
              "\n",
              "     Died.during.admission Outpatientreferralflag Serviceconnectedflag  \\\n",
              "11                     NaN                    Yes                  NaN   \n",
              "152                    NaN                    Yes                  NaN   \n",
              "243                    NaN                    Yes                  NaN   \n",
              "309                    NaN                    Yes                  NaN   \n",
              "418                    NaN                     No                   No   \n",
              "\n",
              "    Agentorangeflag           State code description  \n",
              "11               No        Missouri  NaN         NaN  \n",
              "152             Yes  North Carolina  NaN         NaN  \n",
              "243              No            Ohio  NaN         NaN  \n",
              "309              No         Alabama  NaN         NaN  \n",
              "418             NaN            Ohio  NaN         NaN  "
            ],
            "text/html": [
              "\n",
              "  <div id=\"df-c50db3a2-3f6a-40d9-96ef-0cd46e4f1501\">\n",
              "    <div class=\"colab-df-container\">\n",
              "      <div>\n",
              "<style scoped>\n",
              "    .dataframe tbody tr th:only-of-type {\n",
              "        vertical-align: middle;\n",
              "    }\n",
              "\n",
              "    .dataframe tbody tr th {\n",
              "        vertical-align: top;\n",
              "    }\n",
              "\n",
              "    .dataframe thead th {\n",
              "        text-align: right;\n",
              "    }\n",
              "</style>\n",
              "<table border=\"1\" class=\"dataframe\">\n",
              "  <thead>\n",
              "    <tr style=\"text-align: right;\">\n",
              "      <th></th>\n",
              "      <th>Unnamed: 0</th>\n",
              "      <th>X</th>\n",
              "      <th>Internalpatientid</th>\n",
              "      <th>Age.at.admission</th>\n",
              "      <th>Admission.date</th>\n",
              "      <th>Discharge.date</th>\n",
              "      <th>Admitting.unit.service</th>\n",
              "      <th>Discharging.unit.service</th>\n",
              "      <th>Admitting.specialty</th>\n",
              "      <th>Discharging.specialty</th>\n",
              "      <th>first_dx</th>\n",
              "      <th>second_dx</th>\n",
              "      <th>Discharge.disposition</th>\n",
              "      <th>Died.during.admission</th>\n",
              "      <th>Outpatientreferralflag</th>\n",
              "      <th>Serviceconnectedflag</th>\n",
              "      <th>Agentorangeflag</th>\n",
              "      <th>State</th>\n",
              "      <th>code</th>\n",
              "      <th>description</th>\n",
              "    </tr>\n",
              "  </thead>\n",
              "  <tbody>\n",
              "    <tr>\n",
              "      <th>11</th>\n",
              "      <td>12</td>\n",
              "      <td>1215</td>\n",
              "      <td>105425</td>\n",
              "      <td>53.991401</td>\n",
              "      <td>2004-05-14 20:34:18.0</td>\n",
              "      <td>2004-05-21 13:23:09.0</td>\n",
              "      <td>SURGERY</td>\n",
              "      <td>SURGERY</td>\n",
              "      <td>GRECC-GEM-REHAB</td>\n",
              "      <td>THORACIC SURGERY</td>\n",
              "      <td>atherosclerotic heart disease of native corona...</td>\n",
              "      <td>unstable angina</td>\n",
              "      <td>Regular</td>\n",
              "      <td>NaN</td>\n",
              "      <td>Yes</td>\n",
              "      <td>NaN</td>\n",
              "      <td>No</td>\n",
              "      <td>Missouri</td>\n",
              "      <td>NaN</td>\n",
              "      <td>NaN</td>\n",
              "    </tr>\n",
              "    <tr>\n",
              "      <th>152</th>\n",
              "      <td>153</td>\n",
              "      <td>26160</td>\n",
              "      <td>102468</td>\n",
              "      <td>60.406117</td>\n",
              "      <td>2011-12-31 10:27:27.0</td>\n",
              "      <td>2012-01-01 20:57:03.0</td>\n",
              "      <td>MEDICINE</td>\n",
              "      <td>MEDICINE</td>\n",
              "      <td>SUBSTANCE ABUSE INTERMED CARE</td>\n",
              "      <td>MEDICAL ICU</td>\n",
              "      <td>atherosclerotic heart disease of native corona...</td>\n",
              "      <td>unstable angina</td>\n",
              "      <td>Regular</td>\n",
              "      <td>NaN</td>\n",
              "      <td>Yes</td>\n",
              "      <td>NaN</td>\n",
              "      <td>Yes</td>\n",
              "      <td>North Carolina</td>\n",
              "      <td>NaN</td>\n",
              "      <td>NaN</td>\n",
              "    </tr>\n",
              "    <tr>\n",
              "      <th>243</th>\n",
              "      <td>244</td>\n",
              "      <td>38653</td>\n",
              "      <td>107797</td>\n",
              "      <td>64.188778</td>\n",
              "      <td>2012-10-28 23:57:37.0</td>\n",
              "      <td>2012-10-30 00:03:39.0</td>\n",
              "      <td>NON-COUNT</td>\n",
              "      <td>NON-COUNT</td>\n",
              "      <td>NEUROLOGY OBSERVATION</td>\n",
              "      <td>MEDICAL OBSERVATION</td>\n",
              "      <td>atherosclerotic heart disease of native corona...</td>\n",
              "      <td>other forms of angina pectoris</td>\n",
              "      <td>Regular</td>\n",
              "      <td>NaN</td>\n",
              "      <td>Yes</td>\n",
              "      <td>NaN</td>\n",
              "      <td>No</td>\n",
              "      <td>Ohio</td>\n",
              "      <td>NaN</td>\n",
              "      <td>NaN</td>\n",
              "    </tr>\n",
              "    <tr>\n",
              "      <th>309</th>\n",
              "      <td>310</td>\n",
              "      <td>45321</td>\n",
              "      <td>105907</td>\n",
              "      <td>65.997269</td>\n",
              "      <td>2014-06-26 00:02:42.0</td>\n",
              "      <td>2014-07-01 02:10:18.0</td>\n",
              "      <td>MEDICINE</td>\n",
              "      <td>MEDICINE</td>\n",
              "      <td>PERIPHERAL VASCULAR</td>\n",
              "      <td>Not specified (no value)</td>\n",
              "      <td>atherosclerotic heart disease of native corona...</td>\n",
              "      <td>unstable angina</td>\n",
              "      <td>Regular</td>\n",
              "      <td>NaN</td>\n",
              "      <td>Yes</td>\n",
              "      <td>NaN</td>\n",
              "      <td>No</td>\n",
              "      <td>Alabama</td>\n",
              "      <td>NaN</td>\n",
              "      <td>NaN</td>\n",
              "    </tr>\n",
              "    <tr>\n",
              "      <th>418</th>\n",
              "      <td>419</td>\n",
              "      <td>72306</td>\n",
              "      <td>115675</td>\n",
              "      <td>74.390507</td>\n",
              "      <td>2000-06-26 17:31:35.0</td>\n",
              "      <td>2000-06-26 23:49:36.0</td>\n",
              "      <td>MEDICINE</td>\n",
              "      <td>MEDICINE</td>\n",
              "      <td>HIGH INTENSITY GEN PSYCH INPAT</td>\n",
              "      <td>MEDICAL ICU</td>\n",
              "      <td>atherosclerotic heart disease of native corona...</td>\n",
              "      <td>unstable angina</td>\n",
              "      <td>Transfer</td>\n",
              "      <td>NaN</td>\n",
              "      <td>No</td>\n",
              "      <td>No</td>\n",
              "      <td>NaN</td>\n",
              "      <td>Ohio</td>\n",
              "      <td>NaN</td>\n",
              "      <td>NaN</td>\n",
              "    </tr>\n",
              "  </tbody>\n",
              "</table>\n",
              "</div>\n",
              "      <button class=\"colab-df-convert\" onclick=\"convertToInteractive('df-c50db3a2-3f6a-40d9-96ef-0cd46e4f1501')\"\n",
              "              title=\"Convert this dataframe to an interactive table.\"\n",
              "              style=\"display:none;\">\n",
              "        \n",
              "  <svg xmlns=\"http://www.w3.org/2000/svg\" height=\"24px\"viewBox=\"0 0 24 24\"\n",
              "       width=\"24px\">\n",
              "    <path d=\"M0 0h24v24H0V0z\" fill=\"none\"/>\n",
              "    <path d=\"M18.56 5.44l.94 2.06.94-2.06 2.06-.94-2.06-.94-.94-2.06-.94 2.06-2.06.94zm-11 1L8.5 8.5l.94-2.06 2.06-.94-2.06-.94L8.5 2.5l-.94 2.06-2.06.94zm10 10l.94 2.06.94-2.06 2.06-.94-2.06-.94-.94-2.06-.94 2.06-2.06.94z\"/><path d=\"M17.41 7.96l-1.37-1.37c-.4-.4-.92-.59-1.43-.59-.52 0-1.04.2-1.43.59L10.3 9.45l-7.72 7.72c-.78.78-.78 2.05 0 2.83L4 21.41c.39.39.9.59 1.41.59.51 0 1.02-.2 1.41-.59l7.78-7.78 2.81-2.81c.8-.78.8-2.07 0-2.86zM5.41 20L4 18.59l7.72-7.72 1.47 1.35L5.41 20z\"/>\n",
              "  </svg>\n",
              "      </button>\n",
              "      \n",
              "  <style>\n",
              "    .colab-df-container {\n",
              "      display:flex;\n",
              "      flex-wrap:wrap;\n",
              "      gap: 12px;\n",
              "    }\n",
              "\n",
              "    .colab-df-convert {\n",
              "      background-color: #E8F0FE;\n",
              "      border: none;\n",
              "      border-radius: 50%;\n",
              "      cursor: pointer;\n",
              "      display: none;\n",
              "      fill: #1967D2;\n",
              "      height: 32px;\n",
              "      padding: 0 0 0 0;\n",
              "      width: 32px;\n",
              "    }\n",
              "\n",
              "    .colab-df-convert:hover {\n",
              "      background-color: #E2EBFA;\n",
              "      box-shadow: 0px 1px 2px rgba(60, 64, 67, 0.3), 0px 1px 3px 1px rgba(60, 64, 67, 0.15);\n",
              "      fill: #174EA6;\n",
              "    }\n",
              "\n",
              "    [theme=dark] .colab-df-convert {\n",
              "      background-color: #3B4455;\n",
              "      fill: #D2E3FC;\n",
              "    }\n",
              "\n",
              "    [theme=dark] .colab-df-convert:hover {\n",
              "      background-color: #434B5C;\n",
              "      box-shadow: 0px 1px 3px 1px rgba(0, 0, 0, 0.15);\n",
              "      filter: drop-shadow(0px 1px 2px rgba(0, 0, 0, 0.3));\n",
              "      fill: #FFFFFF;\n",
              "    }\n",
              "  </style>\n",
              "\n",
              "      <script>\n",
              "        const buttonEl =\n",
              "          document.querySelector('#df-c50db3a2-3f6a-40d9-96ef-0cd46e4f1501 button.colab-df-convert');\n",
              "        buttonEl.style.display =\n",
              "          google.colab.kernel.accessAllowed ? 'block' : 'none';\n",
              "\n",
              "        async function convertToInteractive(key) {\n",
              "          const element = document.querySelector('#df-c50db3a2-3f6a-40d9-96ef-0cd46e4f1501');\n",
              "          const dataTable =\n",
              "            await google.colab.kernel.invokeFunction('convertToInteractive',\n",
              "                                                     [key], {});\n",
              "          if (!dataTable) return;\n",
              "\n",
              "          const docLinkHtml = 'Like what you see? Visit the ' +\n",
              "            '<a target=\"_blank\" href=https://colab.research.google.com/notebooks/data_table.ipynb>data table notebook</a>'\n",
              "            + ' to learn more about interactive tables.';\n",
              "          element.innerHTML = '';\n",
              "          dataTable['output_type'] = 'display_data';\n",
              "          await google.colab.output.renderOutput(dataTable, element);\n",
              "          const docLink = document.createElement('div');\n",
              "          docLink.innerHTML = docLinkHtml;\n",
              "          element.appendChild(docLink);\n",
              "        }\n",
              "      </script>\n",
              "    </div>\n",
              "  </div>\n",
              "  "
            ]
          },
          "metadata": {},
          "execution_count": 42
        }
      ]
    },
    {
      "cell_type": "code",
      "source": [],
      "metadata": {
        "id": "gIqFCUSn67sU"
      },
      "execution_count": null,
      "outputs": []
    }
  ],
  "metadata": {
    "colab": {
      "provenance": []
    },
    "kernelspec": {
      "display_name": "Python 3",
      "name": "python3"
    },
    "language_info": {
      "name": "python"
    }
  },
  "nbformat": 4,
  "nbformat_minor": 0
}
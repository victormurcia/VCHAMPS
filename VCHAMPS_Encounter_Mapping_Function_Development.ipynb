{
  "nbformat": 4,
  "nbformat_minor": 0,
  "metadata": {
    "colab": {
      "provenance": [],
      "authorship_tag": "ABX9TyPDP01IqQFMvuM9aQYZyaAA",
      "include_colab_link": true
    },
    "kernelspec": {
      "name": "python3",
      "display_name": "Python 3"
    },
    "language_info": {
      "name": "python"
    },
    "widgets": {
      "application/vnd.jupyter.widget-state+json": {
        "5c6053452c5a4a05b171c6ca70808153": {
          "model_module": "@jupyter-widgets/output",
          "model_name": "OutputModel",
          "model_module_version": "1.0.0",
          "state": {
            "_dom_classes": [],
            "_model_module": "@jupyter-widgets/output",
            "_model_module_version": "1.0.0",
            "_model_name": "OutputModel",
            "_view_count": null,
            "_view_module": "@jupyter-widgets/output",
            "_view_module_version": "1.0.0",
            "_view_name": "OutputView",
            "layout": "IPY_MODEL_fb203a0ff49746519aaf16dbb431baa8",
            "msg_id": "",
            "outputs": [
              {
                "output_type": "stream",
                "name": "stdout",
                "text": [
                  "Filename:  demographics_event_qual\n"
                ]
              },
              {
                "output_type": "display_data",
                "data": {
                  "text/plain": "     Unnamed: 0  Internalpatientid  Age at update             Event date  \\\n0           111             101984      64.882403  2020-07-30 12:26:07.0   \n1           156             102905      79.456365  2022-05-06 07:13:46.0   \n2           177             103133     100.560119  2017-08-28 17:22:05.0   \n3           195              10351      92.317781  2018-04-11 03:34:37.0   \n4           312             105402      85.572665  2021-08-09 19:25:16.0   \n..          ...                ...            ...                    ...   \n995      168448              89271      72.629591  2010-03-14 03:46:22.0   \n996      168474              89715      85.436241  2013-09-21 22:42:22.0   \n997      168709              93917      68.382026  2024-09-24 15:08:02.0   \n998      168752              94720      49.573105  2019-07-02 23:16:32.0   \n999      168767              94935      83.453626  2022-02-26 07:12:24.0   \n\n    Marital status Ruca category  \n0          Married         Urban  \n1          Married         Urban  \n2          Married         Urban  \n3          Married         Rural  \n4        Separated         Urban  \n..             ...           ...  \n995        Married         Urban  \n996        Married         Urban  \n997        Married         Rural  \n998        Married         Urban  \n999        Married         Urban  \n\n[1000 rows x 6 columns]",
                  "text/html": "\n  <div id=\"df-1d5d4270-c427-4171-9560-e9d12fe143cd\">\n    <div class=\"colab-df-container\">\n      <div>\n<style scoped>\n    .dataframe tbody tr th:only-of-type {\n        vertical-align: middle;\n    }\n\n    .dataframe tbody tr th {\n        vertical-align: top;\n    }\n\n    .dataframe thead th {\n        text-align: right;\n    }\n</style>\n<table border=\"1\" class=\"dataframe\">\n  <thead>\n    <tr style=\"text-align: right;\">\n      <th></th>\n      <th>Unnamed: 0</th>\n      <th>Internalpatientid</th>\n      <th>Age at update</th>\n      <th>Event date</th>\n      <th>Marital status</th>\n      <th>Ruca category</th>\n    </tr>\n  </thead>\n  <tbody>\n    <tr>\n      <th>0</th>\n      <td>111</td>\n      <td>101984</td>\n      <td>64.882403</td>\n      <td>2020-07-30 12:26:07.0</td>\n      <td>Married</td>\n      <td>Urban</td>\n    </tr>\n    <tr>\n      <th>1</th>\n      <td>156</td>\n      <td>102905</td>\n      <td>79.456365</td>\n      <td>2022-05-06 07:13:46.0</td>\n      <td>Married</td>\n      <td>Urban</td>\n    </tr>\n    <tr>\n      <th>2</th>\n      <td>177</td>\n      <td>103133</td>\n      <td>100.560119</td>\n      <td>2017-08-28 17:22:05.0</td>\n      <td>Married</td>\n      <td>Urban</td>\n    </tr>\n    <tr>\n      <th>3</th>\n      <td>195</td>\n      <td>10351</td>\n      <td>92.317781</td>\n      <td>2018-04-11 03:34:37.0</td>\n      <td>Married</td>\n      <td>Rural</td>\n    </tr>\n    <tr>\n      <th>4</th>\n      <td>312</td>\n      <td>105402</td>\n      <td>85.572665</td>\n      <td>2021-08-09 19:25:16.0</td>\n      <td>Separated</td>\n      <td>Urban</td>\n    </tr>\n    <tr>\n      <th>...</th>\n      <td>...</td>\n      <td>...</td>\n      <td>...</td>\n      <td>...</td>\n      <td>...</td>\n      <td>...</td>\n    </tr>\n    <tr>\n      <th>995</th>\n      <td>168448</td>\n      <td>89271</td>\n      <td>72.629591</td>\n      <td>2010-03-14 03:46:22.0</td>\n      <td>Married</td>\n      <td>Urban</td>\n    </tr>\n    <tr>\n      <th>996</th>\n      <td>168474</td>\n      <td>89715</td>\n      <td>85.436241</td>\n      <td>2013-09-21 22:42:22.0</td>\n      <td>Married</td>\n      <td>Urban</td>\n    </tr>\n    <tr>\n      <th>997</th>\n      <td>168709</td>\n      <td>93917</td>\n      <td>68.382026</td>\n      <td>2024-09-24 15:08:02.0</td>\n      <td>Married</td>\n      <td>Rural</td>\n    </tr>\n    <tr>\n      <th>998</th>\n      <td>168752</td>\n      <td>94720</td>\n      <td>49.573105</td>\n      <td>2019-07-02 23:16:32.0</td>\n      <td>Married</td>\n      <td>Urban</td>\n    </tr>\n    <tr>\n      <th>999</th>\n      <td>168767</td>\n      <td>94935</td>\n      <td>83.453626</td>\n      <td>2022-02-26 07:12:24.0</td>\n      <td>Married</td>\n      <td>Urban</td>\n    </tr>\n  </tbody>\n</table>\n<p>1000 rows × 6 columns</p>\n</div>\n      <button class=\"colab-df-convert\" onclick=\"convertToInteractive('df-1d5d4270-c427-4171-9560-e9d12fe143cd')\"\n              title=\"Convert this dataframe to an interactive table.\"\n              style=\"display:none;\">\n        \n  <svg xmlns=\"http://www.w3.org/2000/svg\" height=\"24px\"viewBox=\"0 0 24 24\"\n       width=\"24px\">\n    <path d=\"M0 0h24v24H0V0z\" fill=\"none\"/>\n    <path d=\"M18.56 5.44l.94 2.06.94-2.06 2.06-.94-2.06-.94-.94-2.06-.94 2.06-2.06.94zm-11 1L8.5 8.5l.94-2.06 2.06-.94-2.06-.94L8.5 2.5l-.94 2.06-2.06.94zm10 10l.94 2.06.94-2.06 2.06-.94-2.06-.94-.94-2.06-.94 2.06-2.06.94z\"/><path d=\"M17.41 7.96l-1.37-1.37c-.4-.4-.92-.59-1.43-.59-.52 0-1.04.2-1.43.59L10.3 9.45l-7.72 7.72c-.78.78-.78 2.05 0 2.83L4 21.41c.39.39.9.59 1.41.59.51 0 1.02-.2 1.41-.59l7.78-7.78 2.81-2.81c.8-.78.8-2.07 0-2.86zM5.41 20L4 18.59l7.72-7.72 1.47 1.35L5.41 20z\"/>\n  </svg>\n      </button>\n      \n  <style>\n    .colab-df-container {\n      display:flex;\n      flex-wrap:wrap;\n      gap: 12px;\n    }\n\n    .colab-df-convert {\n      background-color: #E8F0FE;\n      border: none;\n      border-radius: 50%;\n      cursor: pointer;\n      display: none;\n      fill: #1967D2;\n      height: 32px;\n      padding: 0 0 0 0;\n      width: 32px;\n    }\n\n    .colab-df-convert:hover {\n      background-color: #E2EBFA;\n      box-shadow: 0px 1px 2px rgba(60, 64, 67, 0.3), 0px 1px 3px 1px rgba(60, 64, 67, 0.15);\n      fill: #174EA6;\n    }\n\n    [theme=dark] .colab-df-convert {\n      background-color: #3B4455;\n      fill: #D2E3FC;\n    }\n\n    [theme=dark] .colab-df-convert:hover {\n      background-color: #434B5C;\n      box-shadow: 0px 1px 3px 1px rgba(0, 0, 0, 0.15);\n      filter: drop-shadow(0px 1px 2px rgba(0, 0, 0, 0.3));\n      fill: #FFFFFF;\n    }\n  </style>\n\n      <script>\n        const buttonEl =\n          document.querySelector('#df-1d5d4270-c427-4171-9560-e9d12fe143cd button.colab-df-convert');\n        buttonEl.style.display =\n          google.colab.kernel.accessAllowed ? 'block' : 'none';\n\n        async function convertToInteractive(key) {\n          const element = document.querySelector('#df-1d5d4270-c427-4171-9560-e9d12fe143cd');\n          const dataTable =\n            await google.colab.kernel.invokeFunction('convertToInteractive',\n                                                     [key], {});\n          if (!dataTable) return;\n\n          const docLinkHtml = 'Like what you see? Visit the ' +\n            '<a target=\"_blank\" href=https://colab.research.google.com/notebooks/data_table.ipynb>data table notebook</a>'\n            + ' to learn more about interactive tables.';\n          element.innerHTML = '';\n          dataTable['output_type'] = 'display_data';\n          await google.colab.output.renderOutput(dataTable, element);\n          const docLink = document.createElement('div');\n          docLink.innerHTML = docLinkHtml;\n          element.appendChild(docLink);\n        }\n      </script>\n    </div>\n  </div>\n  "
                },
                "metadata": {}
              }
            ]
          }
        },
        "fb203a0ff49746519aaf16dbb431baa8": {
          "model_module": "@jupyter-widgets/base",
          "model_name": "LayoutModel",
          "model_module_version": "1.2.0",
          "state": {
            "_model_module": "@jupyter-widgets/base",
            "_model_module_version": "1.2.0",
            "_model_name": "LayoutModel",
            "_view_count": null,
            "_view_module": "@jupyter-widgets/base",
            "_view_module_version": "1.2.0",
            "_view_name": "LayoutView",
            "align_content": null,
            "align_items": null,
            "align_self": null,
            "border": null,
            "bottom": null,
            "display": null,
            "flex": null,
            "flex_flow": null,
            "grid_area": null,
            "grid_auto_columns": null,
            "grid_auto_flow": null,
            "grid_auto_rows": null,
            "grid_column": null,
            "grid_gap": null,
            "grid_row": null,
            "grid_template_areas": null,
            "grid_template_columns": null,
            "grid_template_rows": null,
            "height": null,
            "justify_content": null,
            "justify_items": null,
            "left": null,
            "margin": null,
            "max_height": null,
            "max_width": null,
            "min_height": null,
            "min_width": null,
            "object_fit": null,
            "object_position": null,
            "order": null,
            "overflow": null,
            "overflow_x": null,
            "overflow_y": null,
            "padding": null,
            "right": null,
            "top": null,
            "visibility": null,
            "width": null
          }
        },
        "54deafd2cb954204a9c9820600baceb0": {
          "model_module": "@jupyter-widgets/controls",
          "model_name": "IntSliderModel",
          "model_module_version": "1.5.0",
          "state": {
            "_dom_classes": [],
            "_model_module": "@jupyter-widgets/controls",
            "_model_module_version": "1.5.0",
            "_model_name": "IntSliderModel",
            "_view_count": null,
            "_view_module": "@jupyter-widgets/controls",
            "_view_module_version": "1.5.0",
            "_view_name": "IntSliderView",
            "continuous_update": true,
            "description": "DataFrame Index",
            "description_tooltip": null,
            "disabled": false,
            "layout": "IPY_MODEL_bdf020db6f7d4b7988aff5a9b85cf7fb",
            "max": 14,
            "min": 0,
            "orientation": "horizontal",
            "readout": true,
            "readout_format": "d",
            "step": 1,
            "style": "IPY_MODEL_2fff88abe7cc4b07920e916f6e3627a9",
            "value": 5
          }
        },
        "bdf020db6f7d4b7988aff5a9b85cf7fb": {
          "model_module": "@jupyter-widgets/base",
          "model_name": "LayoutModel",
          "model_module_version": "1.2.0",
          "state": {
            "_model_module": "@jupyter-widgets/base",
            "_model_module_version": "1.2.0",
            "_model_name": "LayoutModel",
            "_view_count": null,
            "_view_module": "@jupyter-widgets/base",
            "_view_module_version": "1.2.0",
            "_view_name": "LayoutView",
            "align_content": null,
            "align_items": null,
            "align_self": null,
            "border": null,
            "bottom": null,
            "display": null,
            "flex": null,
            "flex_flow": null,
            "grid_area": null,
            "grid_auto_columns": null,
            "grid_auto_flow": null,
            "grid_auto_rows": null,
            "grid_column": null,
            "grid_gap": null,
            "grid_row": null,
            "grid_template_areas": null,
            "grid_template_columns": null,
            "grid_template_rows": null,
            "height": null,
            "justify_content": null,
            "justify_items": null,
            "left": null,
            "margin": null,
            "max_height": null,
            "max_width": null,
            "min_height": null,
            "min_width": null,
            "object_fit": null,
            "object_position": null,
            "order": null,
            "overflow": null,
            "overflow_x": null,
            "overflow_y": null,
            "padding": null,
            "right": null,
            "top": null,
            "visibility": null,
            "width": null
          }
        },
        "2fff88abe7cc4b07920e916f6e3627a9": {
          "model_module": "@jupyter-widgets/controls",
          "model_name": "SliderStyleModel",
          "model_module_version": "1.5.0",
          "state": {
            "_model_module": "@jupyter-widgets/controls",
            "_model_module_version": "1.5.0",
            "_model_name": "SliderStyleModel",
            "_view_count": null,
            "_view_module": "@jupyter-widgets/base",
            "_view_module_version": "1.2.0",
            "_view_name": "StyleView",
            "description_width": "",
            "handle_color": null
          }
        }
      }
    }
  },
  "cells": [
    {
      "cell_type": "markdown",
      "metadata": {
        "id": "view-in-github",
        "colab_type": "text"
      },
      "source": [
        "<a href=\"https://colab.research.google.com/github/victormurcia/VCHAMPS/blob/main/VCHAMPS_Encounter_Mapping_Function_Development.ipynb\" target=\"_parent\"><img src=\"https://colab.research.google.com/assets/colab-badge.svg\" alt=\"Open In Colab\"/></a>"
      ]
    },
    {
      "cell_type": "markdown",
      "source": [
        "# VCHAMPS EDA on Quality Check Dataset\n",
        "*Made by Victor M. Murcia on 7/2/2023*\n",
        "\n",
        "This notebook showcases the development of the encounter mapping function. I use Unique Universal Identifiers (UUIDs) to define the encounters. This mapping function was applied to 13 different dataframes.\n",
        "\n",
        "The files this mapping function was applied to are:\n",
        "\n",
        " 1. inpatient_specialty_qual.csv',\n",
        " 2. immunization_qual.csv',\n",
        " 3. conditions_qual.csv',\n",
        " 4. measurements_blood_pressure_qual.csv',\n",
        " 5. ed_visits_qual.csv',\n",
        " 6. procedures_qual.csv',\n",
        " 7. medications_ordered_qual.csv',\n",
        " 8. lab_results_qual.csv',\n",
        " 9. outpatient_visits_qual.csv',\n",
        " 10. measurements_qual.csv',\n",
        " 11. medications_administered_qual.csv',\n",
        " 12. inpatient_location_qual.csv',\n",
        " 13. inpatient_admissions_qual.csv'\n",
        "\n",
        "The corresponding columns that were used are:\n",
        "\n",
        "val_cols_for_mapping = ['Specialty start date','Immunization date','Condition documented date','Measurement date','Ed visit start date','Procedure date','Order date', 'Lab test date','Visit start date','Measurement date','Administration date', 'Location.start.date','Admission.date']\n",
        "\n",
        "***Basic Idea:***\n",
        "\n",
        "1. A dictionary was created in order to serve as a sort of hash table such that the Internalpatientid was used as a primary key.\n",
        "2. Then, for each of the dataframes a specific date column was chosen to serve as the corresponding value entry for our hash table.\n",
        "3. Finally, the routine would look through each row in each dataframe for the Internalpatientid: DesiredDateColumn column. If that key:value pair doesn't exist then give it a new UUID. If it does then give it the existing UUID.\n",
        "\n",
        "This would ensure that even across dataframes, the UUID would remain unique regardless of categories since the classification is based on Patient ID and Start Time/Date."
      ],
      "metadata": {
        "id": "fIOm6ZYDKQA1"
      }
    },
    {
      "cell_type": "markdown",
      "source": [
        "# Required Python Libraries and Modules\n",
        "Below are the various libraries and modules I used to carry out this initial cursory analysis."
      ],
      "metadata": {
        "id": "tj2KtcQNKONr"
      }
    },
    {
      "cell_type": "code",
      "execution_count": 1,
      "metadata": {
        "colab": {
          "base_uri": "https://localhost:8080/"
        },
        "collapsed": true,
        "id": "upCyaLGSLtGE",
        "outputId": "a0964d96-4d82-4442-b97f-9b125a27c2bf"
      },
      "outputs": [
        {
          "output_type": "stream",
          "name": "stdout",
          "text": [
            "Mounted at /content/drive\n"
          ]
        }
      ],
      "source": [
        "#General utilities\n",
        "import numpy as np\n",
        "import pandas as pd\n",
        "import matplotlib.pyplot as plt\n",
        "from matplotlib.patches import Ellipse\n",
        "from matplotlib.lines import Line2D\n",
        "import seaborn as sns\n",
        "from tqdm import tqdm  # Import tqdm for the progress bar\n",
        "import glob, os, warnings, uuid\n",
        "from typing import List\n",
        "\n",
        "#For Slider viz\n",
        "import ipywidgets as widgets\n",
        "from IPython.display import display, clear_output,HTML\n",
        "\n",
        "#Enable data to be extracted and downloaded from my Google Drive\n",
        "from google.colab import drive, files\n",
        "drive.mount('/content/drive')"
      ]
    },
    {
      "cell_type": "markdown",
      "source": [],
      "metadata": {
        "id": "JQka4UpWKLyD"
      }
    },
    {
      "cell_type": "code",
      "source": [
        "def load_csvs(path2data: str) -> List[str]:\n",
        "  \"\"\"\n",
        "  Load and return a list of CSV file paths from the specified directory.\n",
        "\n",
        "  Args:\n",
        "      path2data (str): The directory path containing the CSV files.\n",
        "\n",
        "  Returns:\n",
        "      List[str]: A list of CSV file paths.\n",
        "\n",
        "  \"\"\"\n",
        "  csv_files = glob.glob(path2data + '/*.csv')\n",
        "  return csv_files\n",
        "\n",
        "def make_df_list(csv_files: List[str]) -> List[pd.DataFrame]:\n",
        "  \"\"\"\n",
        "  Read CSV files from the provided list of file paths and return a list of DataFrames.\n",
        "\n",
        "  Args:\n",
        "      csv_files (List[str]): A list of CSV file paths.\n",
        "\n",
        "  Returns:\n",
        "      List[pd.DataFrame]: A list of DataFrames read from the CSV files.\n",
        "\n",
        "  \"\"\"\n",
        "  df_list = []\n",
        "  # Read the CSV file\n",
        "  for csv in csv_files:\n",
        "    df = pd.read_csv(csv)\n",
        "    df_list.append(df)\n",
        "\n",
        "  return df_list\n",
        "\n",
        "def clean_filenames(csv_files: List[str]) -> List[str]:\n",
        "  \"\"\"\n",
        "  Clean the file names by removing directory path and the .csv extension.\n",
        "\n",
        "  Args:\n",
        "      csv_files (List[str]): A list of CSV file paths.\n",
        "\n",
        "  Returns:\n",
        "      List[str]: A list of cleaned file names without directory path and file extension.\n",
        "\n",
        "  \"\"\"\n",
        "  #Get list of file names without directory junk and remove .csv extension from name\n",
        "  file_names = []\n",
        "\n",
        "  for file_path in csv_files:\n",
        "      file_name = os.path.basename(file_path)  # Get the file name with extension\n",
        "      file_name = os.path.splitext(file_name)[0]  # Remove the file extension\n",
        "      file_names.append(file_name)\n",
        "  return file_names\n",
        "\n",
        "#Define data location\n",
        "path2data = '/content/drive/MyDrive/Quality Check'\n",
        "#Load the .csv files into memory\n",
        "csv_files  = load_csvs(path2data)\n",
        "#Create list of dataframes from csvs\n",
        "df_list    = make_df_list(csv_files)\n",
        "#Clean the names of .csv files\n",
        "file_names = clean_filenames(csv_files)"
      ],
      "metadata": {
        "id": "Zi7tAUwaRWU_"
      },
      "execution_count": 2,
      "outputs": []
    },
    {
      "cell_type": "code",
      "source": [
        "csv_files"
      ],
      "metadata": {
        "colab": {
          "base_uri": "https://localhost:8080/"
        },
        "id": "fIbM5nXExpdb",
        "outputId": "ee434f4e-d77c-4050-d3fb-123325d8a909"
      },
      "execution_count": 3,
      "outputs": [
        {
          "output_type": "execute_result",
          "data": {
            "text/plain": [
              "['/content/drive/MyDrive/Quality Check/demographics_static_qual.csv',\n",
              " '/content/drive/MyDrive/Quality Check/inpatient_specialty_qual.csv',\n",
              " '/content/drive/MyDrive/Quality Check/immunization_qual.csv',\n",
              " '/content/drive/MyDrive/Quality Check/conditions_qual.csv',\n",
              " '/content/drive/MyDrive/Quality Check/measurements_blood_pressure_qual.csv',\n",
              " '/content/drive/MyDrive/Quality Check/demographics_event_qual.csv',\n",
              " '/content/drive/MyDrive/Quality Check/ed_visits_qual.csv',\n",
              " '/content/drive/MyDrive/Quality Check/procedures_qual.csv',\n",
              " '/content/drive/MyDrive/Quality Check/medications_ordered_qual.csv',\n",
              " '/content/drive/MyDrive/Quality Check/lab_results_qual.csv',\n",
              " '/content/drive/MyDrive/Quality Check/outpatient_visits_qual.csv',\n",
              " '/content/drive/MyDrive/Quality Check/measurements_qual.csv',\n",
              " '/content/drive/MyDrive/Quality Check/medications_administered_qual.csv',\n",
              " '/content/drive/MyDrive/Quality Check/inpatient_location_qual.csv',\n",
              " '/content/drive/MyDrive/Quality Check/inpatient_admissions_qual.csv']"
            ]
          },
          "metadata": {},
          "execution_count": 3
        }
      ]
    },
    {
      "cell_type": "markdown",
      "source": [
        "# Widget for Rapid Dataframe Inspection\n",
        "I made this widget to quickly inspect the generated dataframes from the provided .csv files. This allows us to quickly see all the different attributes present in the data."
      ],
      "metadata": {
        "id": "CpmJuFG-6t5D"
      }
    },
    {
      "cell_type": "code",
      "source": [
        "def visualize_dataframes(df_list: List[pd.DataFrame], file_names: List[str]) -> None:\n",
        "    \"\"\"\n",
        "    Visualizes a list of DataFrames with an interactive slider.\n",
        "\n",
        "    Args:\n",
        "        df_list (List[pd.DataFrame]): A list of pandas DataFrames to be visualized.\n",
        "        file_names (List[str]): A list of corresponding file names for the DataFrames.\n",
        "\n",
        "    Returns:\n",
        "        None\n",
        "    \"\"\"\n",
        "    # Set the maximum number of rows to be displayed\n",
        "    pd.set_option(\"display.max_rows\", 10)\n",
        "\n",
        "    # Create an index slider\n",
        "    index_slider = widgets.IntSlider(min=0, max=len(df_list)-1, value=0, description='DataFrame Index')\n",
        "\n",
        "    # Function to display the selected dataframe\n",
        "    output = widgets.Output()\n",
        "\n",
        "    def display_dataframe(index: int) -> None:\n",
        "        \"\"\"\n",
        "        Displays the selected DataFrame based on the index.\n",
        "\n",
        "        Args:\n",
        "            index (int): Index of the DataFrame to be displayed.\n",
        "\n",
        "        Returns:\n",
        "            None\n",
        "        \"\"\"\n",
        "        df = df_list[index]\n",
        "        current_file = file_names[index]\n",
        "        with output:\n",
        "            clear_output(wait=True)\n",
        "            print('Filename: ',current_file)\n",
        "            display(df)\n",
        "\n",
        "    # Display the initial dataframe\n",
        "    display(output)\n",
        "\n",
        "    # Link the slider value to the display_dataframe function\n",
        "    widgets.interactive_output(display_dataframe, {'index': index_slider})\n",
        "\n",
        "    # Display the slider\n",
        "    display(index_slider)\n",
        "\n",
        "    # Link the slider value to the display_dataframe function\n",
        "    widgets.interactive(display_dataframe, index=index_slider)"
      ],
      "metadata": {
        "id": "xhadyEwIOmJG"
      },
      "execution_count": 15,
      "outputs": []
    },
    {
      "cell_type": "code",
      "source": [
        "#Mapping function\n",
        "dfs_for_mapping = [df_list[1],df_list[2],df_list[3],df_list[4],df_list[6],df_list[7],df_list[8],df_list[9],\n",
        "                   df_list[10],df_list[11],df_list[12],df_list[13],df_list[14]]\n",
        "val_cols_for_mapping = ['Specialty start date','Immunization date','Condition documented date',\n",
        "                        'Measurement date','Ed visit start date','Procedure date','Order date',\n",
        "                        'Lab test date','Visit start date','Measurement date','Administration date',\n",
        "                        'Location.start.date','Admission.date']\n",
        "\n",
        "def get_uuid(row, value_column):\n",
        "    key = (row['Internalpatientid'], row[value_column])\n",
        "    if key not in uuid_dict:\n",
        "        uuid_dict[key] = str(uuid.uuid4())\n",
        "    return uuid_dict[key]\n",
        "\n",
        "# Instantiate the UUID dictionary\n",
        "uuid_dict = {}\n",
        "\n",
        "total_iterations = len(dfs_for_mapping)\n",
        "\n",
        "for i, df in tqdm(enumerate(dfs_for_mapping), total=total_iterations, desc=\"Processing DataFrames\"):\n",
        "    # Select the DataFrame and the corresponding value column\n",
        "    value_column = val_cols_for_mapping[i]  # Update the index as desired\n",
        "\n",
        "    # Apply the get_uuid function to create the Encounter ID column\n",
        "    df['Encounter ID'] = df.apply(lambda row: get_uuid(row, value_column), axis=1)"
      ],
      "metadata": {
        "colab": {
          "base_uri": "https://localhost:8080/"
        },
        "id": "8i2G6yblxYqS",
        "outputId": "9ebc0770-3817-4b21-ef85-ca2c3e4aade3"
      },
      "execution_count": 11,
      "outputs": [
        {
          "output_type": "stream",
          "name": "stderr",
          "text": [
            "Processing DataFrames: 100%|██████████| 13/13 [01:02<00:00,  4.79s/it]\n"
          ]
        }
      ]
    },
    {
      "cell_type": "code",
      "source": [
        "visualize_dataframes(df_list, file_names)"
      ],
      "metadata": {
        "colab": {
          "base_uri": "https://localhost:8080/",
          "height": 473,
          "referenced_widgets": [
            "5c6053452c5a4a05b171c6ca70808153",
            "fb203a0ff49746519aaf16dbb431baa8",
            "54deafd2cb954204a9c9820600baceb0",
            "bdf020db6f7d4b7988aff5a9b85cf7fb",
            "2fff88abe7cc4b07920e916f6e3627a9"
          ]
        },
        "id": "4paz5faB0tER",
        "outputId": "a2095f59-3235-4cd3-9cda-88ab3b733cbe"
      },
      "execution_count": 10,
      "outputs": [
        {
          "output_type": "display_data",
          "data": {
            "text/plain": [
              "Output()"
            ],
            "application/vnd.jupyter.widget-view+json": {
              "version_major": 2,
              "version_minor": 0,
              "model_id": "5c6053452c5a4a05b171c6ca70808153"
            }
          },
          "metadata": {}
        },
        {
          "output_type": "display_data",
          "data": {
            "text/plain": [
              "IntSlider(value=0, description='DataFrame Index', max=14)"
            ],
            "application/vnd.jupyter.widget-view+json": {
              "version_major": 2,
              "version_minor": 0,
              "model_id": "54deafd2cb954204a9c9820600baceb0"
            }
          },
          "metadata": {}
        }
      ]
    },
    {
      "cell_type": "code",
      "source": [
        "df = df_list[2]\n",
        "num_unique_encounter_ids = df['Encounter ID'].nunique()\n",
        "print(\"Number of unique Encounter IDs:\", num_unique_encounter_ids)"
      ],
      "metadata": {
        "id": "XVH3_N2Gj_ZB",
        "colab": {
          "base_uri": "https://localhost:8080/"
        },
        "outputId": "2199ff86-ba36-4f11-c26f-8810e3095663"
      },
      "execution_count": 13,
      "outputs": [
        {
          "output_type": "stream",
          "name": "stdout",
          "text": [
            "Number of unique Encounter IDs: 11432\n"
          ]
        }
      ]
    },
    {
      "cell_type": "code",
      "source": [],
      "metadata": {
        "id": "IQzfO9I16B75"
      },
      "execution_count": null,
      "outputs": []
    }
  ]
}